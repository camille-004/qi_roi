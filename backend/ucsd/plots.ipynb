{
 "cells": [
  {
   "cell_type": "code",
   "execution_count": 19,
   "metadata": {
    "collapsed": true
   },
   "outputs": [],
   "source": [
    "import pandas as pd\n",
    "import plotly.express as px\n",
    "import plotly.graph_objects as go\n",
    "\n",
    "fp = '../../data/ucsd/UCSDCoursedata.csv'\n",
    "drop_cols = ['Unnamed: 0', 'instr', 'evals', 'time']\n",
    "\n",
    "df = pd.read_csv(fp)\n",
    "df = df.drop(columns=drop_cols)\n",
    "\n",
    "eng_courses = ['AESE', 'BENG', 'CENG', 'CSE', 'DSC', 'ECE', 'ENG', 'NANO',\n",
    "               'SE', 'WES']\n",
    "\n",
    "eng_df = df[df['course'].str.contains('|'.join(eng_courses))]"
   ]
  },
  {
   "cell_type": "code",
   "execution_count": 20,
   "outputs": [
    {
     "data": {
      "application/vnd.plotly.v1+json": {
       "config": {
        "plotlyServerURL": "https://plot.ly"
       },
       "data": [
        {
         "alignmentgroup": "True",
         "bingroup": "x",
         "hovertemplate": "variable=course<br>Course Type=%{x}<br>count=%{y}<extra></extra>",
         "legendgroup": "course",
         "marker": {
          "color": "deepskyblue"
         },
         "name": "course",
         "offsetgroup": "course",
         "orientation": "v",
         "showlegend": true,
         "type": "histogram",
         "x": [
          "DSC",
          "ECE",
          "CSE",
          "CSE",
          "CSE",
          "CSE",
          "CSE",
          "CSE",
          "CSE",
          "CSE",
          "CSE",
          "CSE",
          "CSE",
          "CSE",
          "CSE",
          "CSE",
          "CSE",
          "ECE",
          "ECE",
          "ECE",
          "SE",
          "SE",
          "SE",
          "CSE",
          "CSE",
          "CSE",
          "CSE",
          "CSE",
          "CSE",
          "CSE",
          "CSE",
          "CSE",
          "CSE",
          "CSE",
          "CSE",
          "CSE",
          "CSE",
          "CSE",
          "CSE",
          "CSE",
          "ECE",
          "ECE",
          "ECE",
          "SE",
          "SE",
          "BENG",
          "BENG",
          "BENG",
          "BENG",
          "BENG",
          "BENG",
          "BENG",
          "BENG",
          "BENG",
          "BENG",
          "BENG",
          "BENG",
          "BENG",
          "BENG",
          "BENG",
          "BENG",
          "CENG",
          "CENG",
          "CENG",
          "CENG",
          "CENG",
          "CENG",
          "CENG",
          "CENG",
          "CSE",
          "CSE",
          "CSE",
          "CSE",
          "CSE",
          "CSE",
          "CSE",
          "CSE",
          "CSE",
          "CSE",
          "CSE",
          "CSE",
          "CSE",
          "CSE",
          "CSE",
          "CSE",
          "CSE",
          "CSE",
          "CSE",
          "CSE",
          "CSE",
          "CSE",
          "CSE",
          "CSE",
          "CSE",
          "CSE",
          "CSE",
          "CSE",
          "CSE",
          "CSE",
          "CSE",
          "CSE",
          "CSE",
          "CSE",
          "CSE",
          "CSE",
          "CSE",
          "CSE",
          "CSE",
          "CSE",
          "CSE",
          "CSE",
          "CSE",
          "CSE",
          "CSE",
          "CSE",
          "CSE",
          "CSE",
          "CSE",
          "DSC",
          "DSC",
          "DSC",
          "DSC",
          "DSC",
          "DSC",
          "DSC",
          "DSC",
          "DSC",
          "DSC",
          "DSC",
          "DSC",
          "DSC",
          "DSC",
          "DSC",
          "ECE",
          "ECE",
          "ECE",
          "ECE",
          "ECE",
          "ECE",
          "ECE",
          "ECE",
          "ECE",
          "ECE",
          "ECE",
          "ECE",
          "ECE",
          "ECE",
          "ECE",
          "ECE",
          "ECE",
          "ECE",
          "ECE",
          "ECE",
          "ECE",
          "ECE",
          "ECE",
          "ECE",
          "ECE",
          "ECE",
          "ECE",
          "ECE",
          "ECE",
          "ENG",
          "ENG",
          "NANO",
          "NANO",
          "NANO",
          "NANO",
          "NANO",
          "NANO",
          "NANO",
          "NANO",
          "NANO",
          "SE",
          "SE",
          "SE",
          "SE",
          "SE",
          "SE",
          "SE",
          "SE",
          "SE",
          "SE",
          "SE",
          "SE",
          "SE",
          "SE",
          "SE",
          "SE",
          "BENG",
          "BENG",
          "BENG",
          "BENG",
          "BENG",
          "BENG",
          "BENG",
          "BENG",
          "BENG",
          "BENG",
          "BENG",
          "BENG",
          "BENG",
          "BENG",
          "BENG",
          "BENG",
          "BENG",
          "CENG",
          "CENG",
          "CENG",
          "CENG",
          "CENG",
          "CENG",
          "CENG",
          "CENG",
          "CENG",
          "CENG",
          "CENG",
          "CENG",
          "CSE",
          "CSE",
          "CSE",
          "CSE",
          "CSE",
          "CSE",
          "CSE",
          "CSE",
          "CSE",
          "CSE",
          "CSE",
          "CSE",
          "CSE",
          "CSE",
          "CSE",
          "CSE",
          "CSE",
          "CSE",
          "CSE",
          "CSE",
          "CSE",
          "CSE",
          "CSE",
          "CSE",
          "CSE",
          "CSE",
          "CSE",
          "CSE",
          "CSE",
          "CSE",
          "CSE",
          "CSE",
          "CSE",
          "CSE",
          "CSE",
          "CSE",
          "CSE",
          "CSE",
          "CSE",
          "CSE",
          "CSE",
          "CSE",
          "CSE",
          "CSE",
          "CSE",
          "CSE",
          "CSE",
          "CSE",
          "CSE",
          "DSC",
          "DSC",
          "DSC",
          "DSC",
          "DSC",
          "DSC",
          "DSC",
          "DSC",
          "DSC",
          "DSC",
          "DSC",
          "DSC",
          "DSC",
          "ECE",
          "ECE",
          "ECE",
          "ECE",
          "ECE",
          "ECE",
          "ECE",
          "ECE",
          "ECE",
          "ECE",
          "ECE",
          "ECE",
          "ECE",
          "ECE",
          "ECE",
          "ECE",
          "ECE",
          "ECE",
          "ECE",
          "ECE",
          "ECE",
          "ECE",
          "ECE",
          "ECE",
          "ECE",
          "ECE",
          "ECE",
          "ECE",
          "ECE",
          "ECE",
          "ENG",
          "ENG",
          "ENG",
          "NANO",
          "NANO",
          "NANO",
          "NANO",
          "NANO",
          "NANO",
          "NANO",
          "SE",
          "SE",
          "SE",
          "SE",
          "SE",
          "SE",
          "SE",
          "SE",
          "SE",
          "SE",
          "SE",
          "SE",
          "SE",
          "SE",
          "SE",
          "BENG",
          "BENG",
          "BENG",
          "BENG",
          "BENG",
          "BENG",
          "BENG",
          "BENG",
          "BENG",
          "BENG",
          "BENG",
          "BENG",
          "BENG",
          "BENG",
          "CENG",
          "CENG",
          "CENG",
          "CENG",
          "CENG",
          "CENG",
          "CENG",
          "CENG",
          "CENG",
          "CENG",
          "CENG",
          "CSE",
          "CSE",
          "CSE",
          "CSE",
          "CSE",
          "CSE",
          "CSE",
          "CSE",
          "CSE",
          "CSE",
          "CSE",
          "CSE",
          "CSE",
          "CSE",
          "CSE",
          "CSE",
          "CSE",
          "CSE",
          "CSE",
          "CSE",
          "CSE",
          "CSE",
          "CSE",
          "CSE",
          "CSE",
          "CSE",
          "CSE",
          "CSE",
          "CSE",
          "CSE",
          "CSE",
          "CSE",
          "CSE",
          "CSE",
          "CSE",
          "CSE",
          "CSE",
          "CSE",
          "CSE",
          "CSE",
          "CSE",
          "CSE",
          "CSE",
          "CSE",
          "CSE",
          "CSE",
          "CSE",
          "CSE",
          "CSE",
          "CSE",
          "DSC",
          "DSC",
          "DSC",
          "DSC",
          "DSC",
          "DSC",
          "DSC",
          "DSC",
          "DSC",
          "ECE",
          "ECE",
          "ECE",
          "ECE",
          "ECE",
          "ECE",
          "ECE",
          "ECE",
          "ECE",
          "ECE",
          "ECE",
          "ECE",
          "ECE",
          "ECE",
          "ECE",
          "ECE",
          "ECE",
          "ECE",
          "ECE",
          "ECE",
          "ECE",
          "ECE",
          "ECE",
          "ECE",
          "ECE",
          "ECE",
          "ECE",
          "ECE",
          "ECE",
          "ECE",
          "ENG",
          "ENG",
          "ENG",
          "ENG",
          "NANO",
          "NANO",
          "NANO",
          "NANO",
          "NANO",
          "NANO",
          "NANO",
          "SE",
          "SE",
          "SE",
          "SE",
          "SE",
          "SE",
          "SE",
          "SE",
          "SE",
          "SE",
          "SE",
          "ECE",
          "CENG",
          "CSE",
          "CSE",
          "CSE",
          "CSE",
          "CSE",
          "CSE",
          "CSE",
          "CSE",
          "CSE",
          "CSE",
          "CSE",
          "CSE",
          "CSE",
          "CSE",
          "CSE",
          "CSE",
          "DSC",
          "ECE",
          "ECE",
          "ENG",
          "ENG",
          "ENG",
          "ENG",
          "SE",
          "SE",
          "SE",
          "BENG",
          "CSE",
          "CSE",
          "CSE",
          "CSE",
          "CSE",
          "CSE",
          "CSE",
          "CSE",
          "CSE",
          "CSE",
          "CSE",
          "CSE",
          "CSE",
          "CSE",
          "DSC",
          "ECE",
          "ECE",
          "SE",
          "BENG",
          "BENG",
          "BENG",
          "BENG",
          "BENG",
          "BENG",
          "BENG",
          "BENG",
          "BENG",
          "BENG",
          "BENG",
          "BENG",
          "BENG",
          "BENG",
          "BENG",
          "BENG",
          "CENG",
          "CENG",
          "CENG",
          "CENG",
          "CENG",
          "CENG",
          "CENG",
          "CENG",
          "CENG",
          "CENG",
          "CSE",
          "CSE",
          "CSE",
          "CSE",
          "CSE",
          "CSE",
          "CSE",
          "CSE",
          "CSE",
          "CSE",
          "CSE",
          "CSE",
          "CSE",
          "CSE",
          "CSE",
          "CSE",
          "CSE",
          "CSE",
          "CSE",
          "CSE",
          "CSE",
          "CSE",
          "CSE",
          "CSE",
          "CSE",
          "CSE",
          "CSE",
          "CSE",
          "CSE",
          "CSE",
          "CSE",
          "CSE",
          "CSE",
          "CSE",
          "CSE",
          "CSE",
          "CSE",
          "CSE",
          "CSE",
          "CSE",
          "CSE",
          "CSE",
          "CSE",
          "CSE",
          "CSE",
          "CSE",
          "CSE",
          "CSE",
          "CSE",
          "CSE",
          "CSE",
          "CSE",
          "DSC",
          "DSC",
          "DSC",
          "DSC",
          "DSC",
          "DSC",
          "DSC",
          "DSC",
          "DSC",
          "DSC",
          "ECE",
          "ECE",
          "ECE",
          "ECE",
          "ECE",
          "ECE",
          "ECE",
          "ECE",
          "ECE",
          "ECE",
          "ECE",
          "ECE",
          "ECE",
          "ECE",
          "ECE",
          "ECE",
          "ECE",
          "ECE",
          "ECE",
          "ECE",
          "ECE",
          "ECE",
          "ECE",
          "ECE",
          "ECE",
          "ECE",
          "ECE",
          "ECE",
          "ECE",
          "ECE",
          "ENG",
          "ENG",
          "NANO",
          "NANO",
          "NANO",
          "NANO",
          "NANO",
          "NANO",
          "SE",
          "SE",
          "SE",
          "SE",
          "SE",
          "SE",
          "SE",
          "SE",
          "SE",
          "SE",
          "SE",
          "SE",
          "SE",
          "SE",
          "SE",
          "SE",
          "SE",
          "BENG",
          "BENG",
          "BENG",
          "BENG",
          "BENG",
          "BENG",
          "BENG",
          "BENG",
          "BENG",
          "BENG",
          "BENG",
          "BENG",
          "BENG",
          "BENG",
          "CENG",
          "CENG",
          "CENG",
          "CENG",
          "CENG",
          "CENG",
          "CENG",
          "CENG",
          "CENG",
          "CENG",
          "CSE",
          "CSE",
          "CSE",
          "CSE",
          "CSE",
          "CSE",
          "CSE",
          "CSE",
          "CSE",
          "CSE",
          "CSE",
          "CSE",
          "CSE",
          "CSE",
          "CSE",
          "CSE",
          "CSE",
          "CSE",
          "CSE",
          "CSE",
          "CSE",
          "CSE",
          "CSE",
          "CSE",
          "CSE",
          "CSE",
          "CSE",
          "CSE",
          "CSE",
          "CSE",
          "CSE",
          "CSE",
          "CSE",
          "CSE",
          "CSE",
          "CSE",
          "CSE",
          "CSE",
          "CSE",
          "CSE",
          "CSE",
          "CSE",
          "CSE",
          "CSE",
          "CSE",
          "CSE",
          "CSE",
          "DSC",
          "DSC",
          "DSC",
          "DSC",
          "DSC",
          "DSC",
          "DSC",
          "ECE",
          "ECE",
          "ECE",
          "ECE",
          "ECE",
          "ECE",
          "ECE",
          "ECE",
          "ECE",
          "ECE",
          "ECE",
          "ECE",
          "ECE",
          "ECE",
          "ECE",
          "ECE",
          "ECE",
          "ECE",
          "ECE",
          "ECE",
          "ECE",
          "ECE",
          "ECE",
          "ECE",
          "ECE",
          "ECE",
          "ECE",
          "ECE",
          "ECE",
          "ECE",
          "ECE",
          "ECE",
          "ECE",
          "ENG",
          "NANO",
          "NANO",
          "NANO",
          "NANO",
          "NANO",
          "NANO",
          "NANO",
          "NANO",
          "SE",
          "SE",
          "SE",
          "SE",
          "SE",
          "SE",
          "SE",
          "SE",
          "SE",
          "SE",
          "SE",
          "SE",
          "SE",
          "BENG",
          "BENG",
          "BENG",
          "BENG",
          "BENG",
          "BENG",
          "BENG",
          "BENG",
          "BENG",
          "BENG",
          "BENG",
          "CENG",
          "CENG",
          "CENG",
          "CENG",
          "CENG",
          "CENG",
          "CENG",
          "CENG",
          "CENG",
          "CSE",
          "CSE",
          "CSE",
          "CSE",
          "CSE",
          "CSE",
          "CSE",
          "CSE",
          "CSE",
          "CSE",
          "CSE",
          "CSE",
          "CSE",
          "CSE",
          "CSE",
          "CSE",
          "CSE",
          "CSE",
          "CSE",
          "CSE",
          "CSE",
          "CSE",
          "CSE",
          "CSE",
          "CSE",
          "CSE",
          "CSE",
          "CSE",
          "CSE",
          "CSE",
          "CSE",
          "CSE",
          "CSE",
          "CSE",
          "CSE",
          "CSE",
          "CSE",
          "CSE",
          "CSE",
          "CSE",
          "CSE",
          "CSE",
          "CSE",
          "CSE",
          "CSE",
          "CSE",
          "CSE",
          "CSE",
          "CSE",
          "DSC",
          "DSC",
          "DSC",
          "DSC",
          "DSC",
          "DSC",
          "DSC",
          "ECE",
          "ECE",
          "ECE",
          "ECE",
          "ECE",
          "ECE",
          "ECE",
          "ECE",
          "ECE",
          "ECE",
          "ECE",
          "ECE",
          "ECE",
          "ECE",
          "ECE",
          "ECE",
          "ECE",
          "ECE",
          "ECE",
          "ECE",
          "ECE",
          "ECE",
          "ECE",
          "ECE",
          "ECE",
          "ECE",
          "ECE",
          "ECE",
          "ECE",
          "ENG",
          "ENG",
          "ENG",
          "ENG",
          "NANO",
          "NANO",
          "NANO",
          "NANO",
          "NANO",
          "NANO",
          "SE",
          "SE",
          "SE",
          "SE",
          "SE",
          "SE",
          "SE",
          "SE",
          "SE",
          "CENG",
          "CENG",
          "CSE",
          "CSE",
          "CSE",
          "CSE",
          "CSE",
          "CSE",
          "CSE",
          "CSE",
          "CSE",
          "ECE",
          "ECE",
          "ECE",
          "ECE",
          "ENG",
          "ENG",
          "ENG",
          "ENG",
          "SE",
          "SE",
          "CSE",
          "CSE",
          "CSE",
          "ECE",
          "ECE",
          "ECE",
          "SE",
          "BENG",
          "BENG",
          "BENG",
          "BENG",
          "BENG",
          "BENG",
          "BENG",
          "BENG",
          "BENG",
          "BENG",
          "BENG",
          "BENG",
          "BENG",
          "BENG",
          "BENG",
          "BENG",
          "BENG",
          "BENG",
          "BENG",
          "CENG",
          "CENG",
          "CENG",
          "CENG",
          "CENG",
          "CENG",
          "CENG",
          "CENG",
          "CENG",
          "CSE",
          "CSE",
          "CSE",
          "CSE",
          "CSE",
          "CSE",
          "CSE",
          "CSE",
          "CSE",
          "CSE",
          "CSE",
          "CSE",
          "CSE",
          "CSE",
          "CSE",
          "CSE",
          "CSE",
          "CSE",
          "CSE",
          "CSE",
          "CSE",
          "CSE",
          "CSE",
          "CSE",
          "CSE",
          "CSE",
          "CSE",
          "CSE",
          "CSE",
          "CSE",
          "CSE",
          "CSE",
          "CSE",
          "CSE",
          "CSE",
          "CSE",
          "CSE",
          "CSE",
          "CSE",
          "CSE",
          "CSE",
          "CSE",
          "CSE",
          "CSE",
          "CSE",
          "CSE",
          "CSE",
          "CSE",
          "CSE",
          "CSE",
          "CSE",
          "CSE",
          "DSC",
          "DSC",
          "DSC",
          "DSC",
          "ECE",
          "ECE",
          "ECE",
          "ECE",
          "ECE",
          "ECE",
          "ECE",
          "ECE",
          "ECE",
          "ECE",
          "ECE",
          "ECE",
          "ECE",
          "ECE",
          "ECE",
          "ECE",
          "ECE",
          "ECE",
          "ECE",
          "ECE",
          "ECE",
          "ECE",
          "ECE",
          "ECE",
          "ECE",
          "ECE",
          "ECE",
          "ECE",
          "ENG",
          "ENG",
          "ENG",
          "ENG",
          "NANO",
          "NANO",
          "NANO",
          "NANO",
          "NANO",
          "NANO",
          "NANO",
          "SE",
          "SE",
          "SE",
          "SE",
          "SE",
          "SE",
          "SE",
          "SE",
          "SE",
          "SE",
          "SE",
          "SE",
          "SE",
          "SE",
          "SE",
          "SE",
          "SE",
          "BENG",
          "BENG",
          "BENG",
          "BENG",
          "BENG",
          "BENG",
          "BENG",
          "BENG",
          "BENG",
          "BENG",
          "BENG",
          "BENG",
          "BENG",
          "BENG",
          "BENG",
          "CENG",
          "CENG",
          "CENG",
          "CENG",
          "CENG",
          "CENG",
          "CENG",
          "CENG",
          "CENG",
          "CENG",
          "CSE",
          "CSE",
          "CSE",
          "CSE",
          "CSE",
          "CSE",
          "CSE",
          "CSE",
          "CSE",
          "CSE",
          "CSE",
          "CSE",
          "CSE",
          "CSE",
          "CSE",
          "CSE",
          "CSE",
          "CSE",
          "CSE",
          "CSE",
          "CSE",
          "CSE",
          "CSE",
          "CSE",
          "CSE",
          "CSE",
          "CSE",
          "CSE",
          "CSE",
          "CSE",
          "CSE",
          "CSE",
          "CSE",
          "CSE",
          "CSE",
          "CSE",
          "CSE",
          "CSE",
          "CSE",
          "CSE",
          "CSE",
          "CSE",
          "CSE",
          "CSE",
          "CSE",
          "CSE",
          "CSE",
          "CSE",
          "DSC",
          "DSC",
          "DSC",
          "ECE",
          "ECE",
          "ECE",
          "ECE",
          "ECE",
          "ECE",
          "ECE",
          "ECE",
          "ECE",
          "ECE",
          "ECE",
          "ECE",
          "ECE",
          "ECE",
          "ECE",
          "ECE",
          "ECE",
          "ECE",
          "ECE",
          "ECE",
          "ECE",
          "ECE",
          "ECE",
          "ECE",
          "ECE",
          "ECE",
          "ECE",
          "ECE",
          "ECE",
          "ECE",
          "ECE",
          "ENG",
          "ENG",
          "ENG",
          "ENG",
          "ENG",
          "NANO",
          "NANO",
          "NANO",
          "NANO",
          "NANO",
          "NANO",
          "SE",
          "SE",
          "SE",
          "SE",
          "SE",
          "SE",
          "SE",
          "SE",
          "SE",
          "SE",
          "SE",
          "SE",
          "SE",
          "SE",
          "SE",
          "BENG",
          "BENG",
          "BENG",
          "BENG",
          "BENG",
          "BENG",
          "BENG",
          "BENG",
          "BENG",
          "BENG",
          "BENG",
          "BENG",
          "BENG",
          "BENG",
          "CENG",
          "CENG",
          "CENG",
          "CENG",
          "CENG",
          "CENG",
          "CENG",
          "CENG",
          "CSE",
          "CSE",
          "CSE",
          "CSE",
          "CSE",
          "CSE",
          "CSE",
          "CSE",
          "CSE",
          "CSE",
          "CSE",
          "CSE",
          "CSE",
          "CSE",
          "CSE",
          "CSE",
          "CSE",
          "CSE",
          "CSE",
          "CSE",
          "CSE",
          "CSE",
          "CSE",
          "CSE",
          "CSE",
          "CSE",
          "CSE",
          "CSE",
          "CSE",
          "CSE",
          "CSE",
          "CSE",
          "CSE",
          "CSE",
          "CSE",
          "CSE",
          "CSE",
          "CSE",
          "CSE",
          "CSE",
          "CSE",
          "CSE",
          "CSE",
          "CSE",
          "CSE",
          "CSE",
          "CSE",
          "CSE",
          "CSE",
          "CSE",
          "CSE",
          "CSE",
          "CSE",
          "CSE",
          "CSE",
          "CSE",
          "DSC",
          "DSC",
          "DSC",
          "ECE",
          "ECE",
          "ECE",
          "ECE",
          "ECE",
          "ECE",
          "ECE",
          "ECE",
          "ECE",
          "ECE",
          "ECE",
          "ECE",
          "ECE",
          "ECE",
          "ECE",
          "ECE",
          "ECE",
          "ECE",
          "ECE",
          "ECE",
          "ECE",
          "ECE",
          "ECE",
          "ECE",
          "ENG",
          "ENG",
          "ENG",
          "ENG",
          "ENG",
          "NANO",
          "NANO",
          "NANO",
          "NANO",
          "NANO",
          "NANO",
          "SE",
          "SE",
          "SE",
          "SE",
          "SE",
          "SE",
          "SE",
          "SE",
          "SE"
         ],
         "xaxis": "x",
         "yaxis": "y"
        }
       ],
       "layout": {
        "barmode": "relative",
        "legend": {
         "title": {
          "text": "variable"
         },
         "tracegroupgap": 0
        },
        "template": {
         "data": {
          "bar": [
           {
            "error_x": {
             "color": "#2a3f5f"
            },
            "error_y": {
             "color": "#2a3f5f"
            },
            "marker": {
             "line": {
              "color": "#E5ECF6",
              "width": 0.5
             }
            },
            "type": "bar"
           }
          ],
          "barpolar": [
           {
            "marker": {
             "line": {
              "color": "#E5ECF6",
              "width": 0.5
             }
            },
            "type": "barpolar"
           }
          ],
          "carpet": [
           {
            "aaxis": {
             "endlinecolor": "#2a3f5f",
             "gridcolor": "white",
             "linecolor": "white",
             "minorgridcolor": "white",
             "startlinecolor": "#2a3f5f"
            },
            "baxis": {
             "endlinecolor": "#2a3f5f",
             "gridcolor": "white",
             "linecolor": "white",
             "minorgridcolor": "white",
             "startlinecolor": "#2a3f5f"
            },
            "type": "carpet"
           }
          ],
          "choropleth": [
           {
            "colorbar": {
             "outlinewidth": 0,
             "ticks": ""
            },
            "type": "choropleth"
           }
          ],
          "contour": [
           {
            "colorbar": {
             "outlinewidth": 0,
             "ticks": ""
            },
            "colorscale": [
             [
              0.0,
              "#0d0887"
             ],
             [
              0.1111111111111111,
              "#46039f"
             ],
             [
              0.2222222222222222,
              "#7201a8"
             ],
             [
              0.3333333333333333,
              "#9c179e"
             ],
             [
              0.4444444444444444,
              "#bd3786"
             ],
             [
              0.5555555555555556,
              "#d8576b"
             ],
             [
              0.6666666666666666,
              "#ed7953"
             ],
             [
              0.7777777777777778,
              "#fb9f3a"
             ],
             [
              0.8888888888888888,
              "#fdca26"
             ],
             [
              1.0,
              "#f0f921"
             ]
            ],
            "type": "contour"
           }
          ],
          "contourcarpet": [
           {
            "colorbar": {
             "outlinewidth": 0,
             "ticks": ""
            },
            "type": "contourcarpet"
           }
          ],
          "heatmap": [
           {
            "colorbar": {
             "outlinewidth": 0,
             "ticks": ""
            },
            "colorscale": [
             [
              0.0,
              "#0d0887"
             ],
             [
              0.1111111111111111,
              "#46039f"
             ],
             [
              0.2222222222222222,
              "#7201a8"
             ],
             [
              0.3333333333333333,
              "#9c179e"
             ],
             [
              0.4444444444444444,
              "#bd3786"
             ],
             [
              0.5555555555555556,
              "#d8576b"
             ],
             [
              0.6666666666666666,
              "#ed7953"
             ],
             [
              0.7777777777777778,
              "#fb9f3a"
             ],
             [
              0.8888888888888888,
              "#fdca26"
             ],
             [
              1.0,
              "#f0f921"
             ]
            ],
            "type": "heatmap"
           }
          ],
          "heatmapgl": [
           {
            "colorbar": {
             "outlinewidth": 0,
             "ticks": ""
            },
            "colorscale": [
             [
              0.0,
              "#0d0887"
             ],
             [
              0.1111111111111111,
              "#46039f"
             ],
             [
              0.2222222222222222,
              "#7201a8"
             ],
             [
              0.3333333333333333,
              "#9c179e"
             ],
             [
              0.4444444444444444,
              "#bd3786"
             ],
             [
              0.5555555555555556,
              "#d8576b"
             ],
             [
              0.6666666666666666,
              "#ed7953"
             ],
             [
              0.7777777777777778,
              "#fb9f3a"
             ],
             [
              0.8888888888888888,
              "#fdca26"
             ],
             [
              1.0,
              "#f0f921"
             ]
            ],
            "type": "heatmapgl"
           }
          ],
          "histogram": [
           {
            "marker": {
             "colorbar": {
              "outlinewidth": 0,
              "ticks": ""
             }
            },
            "type": "histogram"
           }
          ],
          "histogram2d": [
           {
            "colorbar": {
             "outlinewidth": 0,
             "ticks": ""
            },
            "colorscale": [
             [
              0.0,
              "#0d0887"
             ],
             [
              0.1111111111111111,
              "#46039f"
             ],
             [
              0.2222222222222222,
              "#7201a8"
             ],
             [
              0.3333333333333333,
              "#9c179e"
             ],
             [
              0.4444444444444444,
              "#bd3786"
             ],
             [
              0.5555555555555556,
              "#d8576b"
             ],
             [
              0.6666666666666666,
              "#ed7953"
             ],
             [
              0.7777777777777778,
              "#fb9f3a"
             ],
             [
              0.8888888888888888,
              "#fdca26"
             ],
             [
              1.0,
              "#f0f921"
             ]
            ],
            "type": "histogram2d"
           }
          ],
          "histogram2dcontour": [
           {
            "colorbar": {
             "outlinewidth": 0,
             "ticks": ""
            },
            "colorscale": [
             [
              0.0,
              "#0d0887"
             ],
             [
              0.1111111111111111,
              "#46039f"
             ],
             [
              0.2222222222222222,
              "#7201a8"
             ],
             [
              0.3333333333333333,
              "#9c179e"
             ],
             [
              0.4444444444444444,
              "#bd3786"
             ],
             [
              0.5555555555555556,
              "#d8576b"
             ],
             [
              0.6666666666666666,
              "#ed7953"
             ],
             [
              0.7777777777777778,
              "#fb9f3a"
             ],
             [
              0.8888888888888888,
              "#fdca26"
             ],
             [
              1.0,
              "#f0f921"
             ]
            ],
            "type": "histogram2dcontour"
           }
          ],
          "mesh3d": [
           {
            "colorbar": {
             "outlinewidth": 0,
             "ticks": ""
            },
            "type": "mesh3d"
           }
          ],
          "parcoords": [
           {
            "line": {
             "colorbar": {
              "outlinewidth": 0,
              "ticks": ""
             }
            },
            "type": "parcoords"
           }
          ],
          "pie": [
           {
            "automargin": true,
            "type": "pie"
           }
          ],
          "scatter": [
           {
            "marker": {
             "colorbar": {
              "outlinewidth": 0,
              "ticks": ""
             }
            },
            "type": "scatter"
           }
          ],
          "scatter3d": [
           {
            "line": {
             "colorbar": {
              "outlinewidth": 0,
              "ticks": ""
             }
            },
            "marker": {
             "colorbar": {
              "outlinewidth": 0,
              "ticks": ""
             }
            },
            "type": "scatter3d"
           }
          ],
          "scattercarpet": [
           {
            "marker": {
             "colorbar": {
              "outlinewidth": 0,
              "ticks": ""
             }
            },
            "type": "scattercarpet"
           }
          ],
          "scattergeo": [
           {
            "marker": {
             "colorbar": {
              "outlinewidth": 0,
              "ticks": ""
             }
            },
            "type": "scattergeo"
           }
          ],
          "scattergl": [
           {
            "marker": {
             "colorbar": {
              "outlinewidth": 0,
              "ticks": ""
             }
            },
            "type": "scattergl"
           }
          ],
          "scattermapbox": [
           {
            "marker": {
             "colorbar": {
              "outlinewidth": 0,
              "ticks": ""
             }
            },
            "type": "scattermapbox"
           }
          ],
          "scatterpolar": [
           {
            "marker": {
             "colorbar": {
              "outlinewidth": 0,
              "ticks": ""
             }
            },
            "type": "scatterpolar"
           }
          ],
          "scatterpolargl": [
           {
            "marker": {
             "colorbar": {
              "outlinewidth": 0,
              "ticks": ""
             }
            },
            "type": "scatterpolargl"
           }
          ],
          "scatterternary": [
           {
            "marker": {
             "colorbar": {
              "outlinewidth": 0,
              "ticks": ""
             }
            },
            "type": "scatterternary"
           }
          ],
          "surface": [
           {
            "colorbar": {
             "outlinewidth": 0,
             "ticks": ""
            },
            "colorscale": [
             [
              0.0,
              "#0d0887"
             ],
             [
              0.1111111111111111,
              "#46039f"
             ],
             [
              0.2222222222222222,
              "#7201a8"
             ],
             [
              0.3333333333333333,
              "#9c179e"
             ],
             [
              0.4444444444444444,
              "#bd3786"
             ],
             [
              0.5555555555555556,
              "#d8576b"
             ],
             [
              0.6666666666666666,
              "#ed7953"
             ],
             [
              0.7777777777777778,
              "#fb9f3a"
             ],
             [
              0.8888888888888888,
              "#fdca26"
             ],
             [
              1.0,
              "#f0f921"
             ]
            ],
            "type": "surface"
           }
          ],
          "table": [
           {
            "cells": {
             "fill": {
              "color": "#EBF0F8"
             },
             "line": {
              "color": "white"
             }
            },
            "header": {
             "fill": {
              "color": "#C8D4E3"
             },
             "line": {
              "color": "white"
             }
            },
            "type": "table"
           }
          ]
         },
         "layout": {
          "annotationdefaults": {
           "arrowcolor": "#2a3f5f",
           "arrowhead": 0,
           "arrowwidth": 1
          },
          "coloraxis": {
           "colorbar": {
            "outlinewidth": 0,
            "ticks": ""
           }
          },
          "colorscale": {
           "diverging": [
            [
             0,
             "#8e0152"
            ],
            [
             0.1,
             "#c51b7d"
            ],
            [
             0.2,
             "#de77ae"
            ],
            [
             0.3,
             "#f1b6da"
            ],
            [
             0.4,
             "#fde0ef"
            ],
            [
             0.5,
             "#f7f7f7"
            ],
            [
             0.6,
             "#e6f5d0"
            ],
            [
             0.7,
             "#b8e186"
            ],
            [
             0.8,
             "#7fbc41"
            ],
            [
             0.9,
             "#4d9221"
            ],
            [
             1,
             "#276419"
            ]
           ],
           "sequential": [
            [
             0.0,
             "#0d0887"
            ],
            [
             0.1111111111111111,
             "#46039f"
            ],
            [
             0.2222222222222222,
             "#7201a8"
            ],
            [
             0.3333333333333333,
             "#9c179e"
            ],
            [
             0.4444444444444444,
             "#bd3786"
            ],
            [
             0.5555555555555556,
             "#d8576b"
            ],
            [
             0.6666666666666666,
             "#ed7953"
            ],
            [
             0.7777777777777778,
             "#fb9f3a"
            ],
            [
             0.8888888888888888,
             "#fdca26"
            ],
            [
             1.0,
             "#f0f921"
            ]
           ],
           "sequentialminus": [
            [
             0.0,
             "#0d0887"
            ],
            [
             0.1111111111111111,
             "#46039f"
            ],
            [
             0.2222222222222222,
             "#7201a8"
            ],
            [
             0.3333333333333333,
             "#9c179e"
            ],
            [
             0.4444444444444444,
             "#bd3786"
            ],
            [
             0.5555555555555556,
             "#d8576b"
            ],
            [
             0.6666666666666666,
             "#ed7953"
            ],
            [
             0.7777777777777778,
             "#fb9f3a"
            ],
            [
             0.8888888888888888,
             "#fdca26"
            ],
            [
             1.0,
             "#f0f921"
            ]
           ]
          },
          "colorway": [
           "#636efa",
           "#EF553B",
           "#00cc96",
           "#ab63fa",
           "#FFA15A",
           "#19d3f3",
           "#FF6692",
           "#B6E880",
           "#FF97FF",
           "#FECB52"
          ],
          "font": {
           "color": "#2a3f5f"
          },
          "geo": {
           "bgcolor": "white",
           "lakecolor": "white",
           "landcolor": "#E5ECF6",
           "showlakes": true,
           "showland": true,
           "subunitcolor": "white"
          },
          "hoverlabel": {
           "align": "left"
          },
          "hovermode": "closest",
          "mapbox": {
           "style": "light"
          },
          "paper_bgcolor": "white",
          "plot_bgcolor": "#E5ECF6",
          "polar": {
           "angularaxis": {
            "gridcolor": "white",
            "linecolor": "white",
            "ticks": ""
           },
           "bgcolor": "#E5ECF6",
           "radialaxis": {
            "gridcolor": "white",
            "linecolor": "white",
            "ticks": ""
           }
          },
          "scene": {
           "xaxis": {
            "backgroundcolor": "#E5ECF6",
            "gridcolor": "white",
            "gridwidth": 2,
            "linecolor": "white",
            "showbackground": true,
            "ticks": "",
            "zerolinecolor": "white"
           },
           "yaxis": {
            "backgroundcolor": "#E5ECF6",
            "gridcolor": "white",
            "gridwidth": 2,
            "linecolor": "white",
            "showbackground": true,
            "ticks": "",
            "zerolinecolor": "white"
           },
           "zaxis": {
            "backgroundcolor": "#E5ECF6",
            "gridcolor": "white",
            "gridwidth": 2,
            "linecolor": "white",
            "showbackground": true,
            "ticks": "",
            "zerolinecolor": "white"
           }
          },
          "shapedefaults": {
           "line": {
            "color": "#2a3f5f"
           }
          },
          "ternary": {
           "aaxis": {
            "gridcolor": "white",
            "linecolor": "white",
            "ticks": ""
           },
           "baxis": {
            "gridcolor": "white",
            "linecolor": "white",
            "ticks": ""
           },
           "bgcolor": "#E5ECF6",
           "caxis": {
            "gridcolor": "white",
            "linecolor": "white",
            "ticks": ""
           }
          },
          "title": {
           "x": 0.05
          },
          "xaxis": {
           "automargin": true,
           "gridcolor": "white",
           "linecolor": "white",
           "ticks": "",
           "title": {
            "standoff": 15
           },
           "zerolinecolor": "white",
           "zerolinewidth": 2
          },
          "yaxis": {
           "automargin": true,
           "gridcolor": "white",
           "linecolor": "white",
           "ticks": "",
           "title": {
            "standoff": 15
           },
           "zerolinecolor": "white",
           "zerolinewidth": 2
          }
         }
        },
        "title": {
         "text": "Engineering Course Types in Our Data"
        },
        "xaxis": {
         "anchor": "y",
         "categoryorder": "total descending",
         "domain": [
          0.0,
          1.0
         ],
         "title": {
          "text": "Course Type"
         }
        },
        "yaxis": {
         "anchor": "x",
         "domain": [
          0.0,
          1.0
         ],
         "title": {
          "text": "count"
         }
        }
       }
      },
      "text/html": "<div>\n        \n        \n            <div id=\"a2111d2a-d3f4-47de-abf7-fa41d2d603c6\" class=\"plotly-graph-div\" style=\"height:525px; width:100%;\"></div>\n            <script type=\"text/javascript\">\n                require([\"plotly\"], function(Plotly) {\n                    window.PLOTLYENV=window.PLOTLYENV || {};\n                    \n                if (document.getElementById(\"a2111d2a-d3f4-47de-abf7-fa41d2d603c6\")) {\n                    Plotly.newPlot(\n                        'a2111d2a-d3f4-47de-abf7-fa41d2d603c6',\n                        [{\"alignmentgroup\": \"True\", \"bingroup\": \"x\", \"hovertemplate\": \"variable=course<br>Course Type=%{x}<br>count=%{y}<extra></extra>\", \"legendgroup\": \"course\", \"marker\": {\"color\": \"deepskyblue\"}, \"name\": \"course\", \"offsetgroup\": \"course\", \"orientation\": \"v\", \"showlegend\": true, \"type\": \"histogram\", \"x\": [\"DSC\", \"ECE\", \"CSE\", \"CSE\", \"CSE\", \"CSE\", \"CSE\", \"CSE\", \"CSE\", \"CSE\", \"CSE\", \"CSE\", \"CSE\", \"CSE\", \"CSE\", \"CSE\", \"CSE\", \"ECE\", \"ECE\", \"ECE\", \"SE\", \"SE\", \"SE\", \"CSE\", \"CSE\", \"CSE\", \"CSE\", \"CSE\", \"CSE\", \"CSE\", \"CSE\", \"CSE\", \"CSE\", \"CSE\", \"CSE\", \"CSE\", \"CSE\", \"CSE\", \"CSE\", \"CSE\", \"ECE\", \"ECE\", \"ECE\", \"SE\", \"SE\", \"BENG\", \"BENG\", \"BENG\", \"BENG\", \"BENG\", \"BENG\", \"BENG\", \"BENG\", \"BENG\", \"BENG\", \"BENG\", \"BENG\", \"BENG\", \"BENG\", \"BENG\", \"BENG\", \"CENG\", \"CENG\", \"CENG\", \"CENG\", \"CENG\", \"CENG\", \"CENG\", \"CENG\", \"CSE\", \"CSE\", \"CSE\", \"CSE\", \"CSE\", \"CSE\", \"CSE\", \"CSE\", \"CSE\", \"CSE\", \"CSE\", \"CSE\", \"CSE\", \"CSE\", \"CSE\", \"CSE\", \"CSE\", \"CSE\", \"CSE\", \"CSE\", \"CSE\", \"CSE\", \"CSE\", \"CSE\", \"CSE\", \"CSE\", \"CSE\", \"CSE\", \"CSE\", \"CSE\", \"CSE\", \"CSE\", \"CSE\", \"CSE\", \"CSE\", \"CSE\", \"CSE\", \"CSE\", \"CSE\", \"CSE\", \"CSE\", \"CSE\", \"CSE\", \"CSE\", \"CSE\", \"CSE\", \"CSE\", \"CSE\", \"CSE\", \"DSC\", \"DSC\", \"DSC\", \"DSC\", \"DSC\", \"DSC\", \"DSC\", \"DSC\", \"DSC\", \"DSC\", \"DSC\", \"DSC\", \"DSC\", \"DSC\", \"DSC\", \"ECE\", \"ECE\", \"ECE\", \"ECE\", \"ECE\", \"ECE\", \"ECE\", \"ECE\", \"ECE\", \"ECE\", \"ECE\", \"ECE\", \"ECE\", \"ECE\", \"ECE\", \"ECE\", \"ECE\", \"ECE\", \"ECE\", \"ECE\", \"ECE\", \"ECE\", \"ECE\", \"ECE\", \"ECE\", \"ECE\", \"ECE\", \"ECE\", \"ECE\", \"ENG\", \"ENG\", \"NANO\", \"NANO\", \"NANO\", \"NANO\", \"NANO\", \"NANO\", \"NANO\", \"NANO\", \"NANO\", \"SE\", \"SE\", \"SE\", \"SE\", \"SE\", \"SE\", \"SE\", \"SE\", \"SE\", \"SE\", \"SE\", \"SE\", \"SE\", \"SE\", \"SE\", \"SE\", \"BENG\", \"BENG\", \"BENG\", \"BENG\", \"BENG\", \"BENG\", \"BENG\", \"BENG\", \"BENG\", \"BENG\", \"BENG\", \"BENG\", \"BENG\", \"BENG\", \"BENG\", \"BENG\", \"BENG\", \"CENG\", \"CENG\", \"CENG\", \"CENG\", \"CENG\", \"CENG\", \"CENG\", \"CENG\", \"CENG\", \"CENG\", \"CENG\", \"CENG\", \"CSE\", \"CSE\", \"CSE\", \"CSE\", \"CSE\", \"CSE\", \"CSE\", \"CSE\", \"CSE\", \"CSE\", \"CSE\", \"CSE\", \"CSE\", \"CSE\", \"CSE\", \"CSE\", \"CSE\", \"CSE\", \"CSE\", \"CSE\", \"CSE\", \"CSE\", \"CSE\", \"CSE\", \"CSE\", \"CSE\", \"CSE\", \"CSE\", \"CSE\", \"CSE\", \"CSE\", \"CSE\", \"CSE\", \"CSE\", \"CSE\", \"CSE\", \"CSE\", \"CSE\", \"CSE\", \"CSE\", \"CSE\", \"CSE\", \"CSE\", \"CSE\", \"CSE\", \"CSE\", \"CSE\", \"CSE\", \"CSE\", \"DSC\", \"DSC\", \"DSC\", \"DSC\", \"DSC\", \"DSC\", \"DSC\", \"DSC\", \"DSC\", \"DSC\", \"DSC\", \"DSC\", \"DSC\", \"ECE\", \"ECE\", \"ECE\", \"ECE\", \"ECE\", \"ECE\", \"ECE\", \"ECE\", \"ECE\", \"ECE\", \"ECE\", \"ECE\", \"ECE\", \"ECE\", \"ECE\", \"ECE\", \"ECE\", \"ECE\", \"ECE\", \"ECE\", \"ECE\", \"ECE\", \"ECE\", \"ECE\", \"ECE\", \"ECE\", \"ECE\", \"ECE\", \"ECE\", \"ECE\", \"ENG\", \"ENG\", \"ENG\", \"NANO\", \"NANO\", \"NANO\", \"NANO\", \"NANO\", \"NANO\", \"NANO\", \"SE\", \"SE\", \"SE\", \"SE\", \"SE\", \"SE\", \"SE\", \"SE\", \"SE\", \"SE\", \"SE\", \"SE\", \"SE\", \"SE\", \"SE\", \"BENG\", \"BENG\", \"BENG\", \"BENG\", \"BENG\", \"BENG\", \"BENG\", \"BENG\", \"BENG\", \"BENG\", \"BENG\", \"BENG\", \"BENG\", \"BENG\", \"CENG\", \"CENG\", \"CENG\", \"CENG\", \"CENG\", \"CENG\", \"CENG\", \"CENG\", \"CENG\", \"CENG\", \"CENG\", \"CSE\", \"CSE\", \"CSE\", \"CSE\", \"CSE\", \"CSE\", \"CSE\", \"CSE\", \"CSE\", \"CSE\", \"CSE\", \"CSE\", \"CSE\", \"CSE\", \"CSE\", \"CSE\", \"CSE\", \"CSE\", \"CSE\", \"CSE\", \"CSE\", \"CSE\", \"CSE\", \"CSE\", \"CSE\", \"CSE\", \"CSE\", \"CSE\", \"CSE\", \"CSE\", \"CSE\", \"CSE\", \"CSE\", \"CSE\", \"CSE\", \"CSE\", \"CSE\", \"CSE\", \"CSE\", \"CSE\", \"CSE\", \"CSE\", \"CSE\", \"CSE\", \"CSE\", \"CSE\", \"CSE\", \"CSE\", \"CSE\", \"CSE\", \"DSC\", \"DSC\", \"DSC\", \"DSC\", \"DSC\", \"DSC\", \"DSC\", \"DSC\", \"DSC\", \"ECE\", \"ECE\", \"ECE\", \"ECE\", \"ECE\", \"ECE\", \"ECE\", \"ECE\", \"ECE\", \"ECE\", \"ECE\", \"ECE\", \"ECE\", \"ECE\", \"ECE\", \"ECE\", \"ECE\", \"ECE\", \"ECE\", \"ECE\", \"ECE\", \"ECE\", \"ECE\", \"ECE\", \"ECE\", \"ECE\", \"ECE\", \"ECE\", \"ECE\", \"ECE\", \"ENG\", \"ENG\", \"ENG\", \"ENG\", \"NANO\", \"NANO\", \"NANO\", \"NANO\", \"NANO\", \"NANO\", \"NANO\", \"SE\", \"SE\", \"SE\", \"SE\", \"SE\", \"SE\", \"SE\", \"SE\", \"SE\", \"SE\", \"SE\", \"ECE\", \"CENG\", \"CSE\", \"CSE\", \"CSE\", \"CSE\", \"CSE\", \"CSE\", \"CSE\", \"CSE\", \"CSE\", \"CSE\", \"CSE\", \"CSE\", \"CSE\", \"CSE\", \"CSE\", \"CSE\", \"DSC\", \"ECE\", \"ECE\", \"ENG\", \"ENG\", \"ENG\", \"ENG\", \"SE\", \"SE\", \"SE\", \"BENG\", \"CSE\", \"CSE\", \"CSE\", \"CSE\", \"CSE\", \"CSE\", \"CSE\", \"CSE\", \"CSE\", \"CSE\", \"CSE\", \"CSE\", \"CSE\", \"CSE\", \"DSC\", \"ECE\", \"ECE\", \"SE\", \"BENG\", \"BENG\", \"BENG\", \"BENG\", \"BENG\", \"BENG\", \"BENG\", \"BENG\", \"BENG\", \"BENG\", \"BENG\", \"BENG\", \"BENG\", \"BENG\", \"BENG\", \"BENG\", \"CENG\", \"CENG\", \"CENG\", \"CENG\", \"CENG\", \"CENG\", \"CENG\", \"CENG\", \"CENG\", \"CENG\", \"CSE\", \"CSE\", \"CSE\", \"CSE\", \"CSE\", \"CSE\", \"CSE\", \"CSE\", \"CSE\", \"CSE\", \"CSE\", \"CSE\", \"CSE\", \"CSE\", \"CSE\", \"CSE\", \"CSE\", \"CSE\", \"CSE\", \"CSE\", \"CSE\", \"CSE\", \"CSE\", \"CSE\", \"CSE\", \"CSE\", \"CSE\", \"CSE\", \"CSE\", \"CSE\", \"CSE\", \"CSE\", \"CSE\", \"CSE\", \"CSE\", \"CSE\", \"CSE\", \"CSE\", \"CSE\", \"CSE\", \"CSE\", \"CSE\", \"CSE\", \"CSE\", \"CSE\", \"CSE\", \"CSE\", \"CSE\", \"CSE\", \"CSE\", \"CSE\", \"CSE\", \"DSC\", \"DSC\", \"DSC\", \"DSC\", \"DSC\", \"DSC\", \"DSC\", \"DSC\", \"DSC\", \"DSC\", \"ECE\", \"ECE\", \"ECE\", \"ECE\", \"ECE\", \"ECE\", \"ECE\", \"ECE\", \"ECE\", \"ECE\", \"ECE\", \"ECE\", \"ECE\", \"ECE\", \"ECE\", \"ECE\", \"ECE\", \"ECE\", \"ECE\", \"ECE\", \"ECE\", \"ECE\", \"ECE\", \"ECE\", \"ECE\", \"ECE\", \"ECE\", \"ECE\", \"ECE\", \"ECE\", \"ENG\", \"ENG\", \"NANO\", \"NANO\", \"NANO\", \"NANO\", \"NANO\", \"NANO\", \"SE\", \"SE\", \"SE\", \"SE\", \"SE\", \"SE\", \"SE\", \"SE\", \"SE\", \"SE\", \"SE\", \"SE\", \"SE\", \"SE\", \"SE\", \"SE\", \"SE\", \"BENG\", \"BENG\", \"BENG\", \"BENG\", \"BENG\", \"BENG\", \"BENG\", \"BENG\", \"BENG\", \"BENG\", \"BENG\", \"BENG\", \"BENG\", \"BENG\", \"CENG\", \"CENG\", \"CENG\", \"CENG\", \"CENG\", \"CENG\", \"CENG\", \"CENG\", \"CENG\", \"CENG\", \"CSE\", \"CSE\", \"CSE\", \"CSE\", \"CSE\", \"CSE\", \"CSE\", \"CSE\", \"CSE\", \"CSE\", \"CSE\", \"CSE\", \"CSE\", \"CSE\", \"CSE\", \"CSE\", \"CSE\", \"CSE\", \"CSE\", \"CSE\", \"CSE\", \"CSE\", \"CSE\", \"CSE\", \"CSE\", \"CSE\", \"CSE\", \"CSE\", \"CSE\", \"CSE\", \"CSE\", \"CSE\", \"CSE\", \"CSE\", \"CSE\", \"CSE\", \"CSE\", \"CSE\", \"CSE\", \"CSE\", \"CSE\", \"CSE\", \"CSE\", \"CSE\", \"CSE\", \"CSE\", \"CSE\", \"DSC\", \"DSC\", \"DSC\", \"DSC\", \"DSC\", \"DSC\", \"DSC\", \"ECE\", \"ECE\", \"ECE\", \"ECE\", \"ECE\", \"ECE\", \"ECE\", \"ECE\", \"ECE\", \"ECE\", \"ECE\", \"ECE\", \"ECE\", \"ECE\", \"ECE\", \"ECE\", \"ECE\", \"ECE\", \"ECE\", \"ECE\", \"ECE\", \"ECE\", \"ECE\", \"ECE\", \"ECE\", \"ECE\", \"ECE\", \"ECE\", \"ECE\", \"ECE\", \"ECE\", \"ECE\", \"ECE\", \"ENG\", \"NANO\", \"NANO\", \"NANO\", \"NANO\", \"NANO\", \"NANO\", \"NANO\", \"NANO\", \"SE\", \"SE\", \"SE\", \"SE\", \"SE\", \"SE\", \"SE\", \"SE\", \"SE\", \"SE\", \"SE\", \"SE\", \"SE\", \"BENG\", \"BENG\", \"BENG\", \"BENG\", \"BENG\", \"BENG\", \"BENG\", \"BENG\", \"BENG\", \"BENG\", \"BENG\", \"CENG\", \"CENG\", \"CENG\", \"CENG\", \"CENG\", \"CENG\", \"CENG\", \"CENG\", \"CENG\", \"CSE\", \"CSE\", \"CSE\", \"CSE\", \"CSE\", \"CSE\", \"CSE\", \"CSE\", \"CSE\", \"CSE\", \"CSE\", \"CSE\", \"CSE\", \"CSE\", \"CSE\", \"CSE\", \"CSE\", \"CSE\", \"CSE\", \"CSE\", \"CSE\", \"CSE\", \"CSE\", \"CSE\", \"CSE\", \"CSE\", \"CSE\", \"CSE\", \"CSE\", \"CSE\", \"CSE\", \"CSE\", \"CSE\", \"CSE\", \"CSE\", \"CSE\", \"CSE\", \"CSE\", \"CSE\", \"CSE\", \"CSE\", \"CSE\", \"CSE\", \"CSE\", \"CSE\", \"CSE\", \"CSE\", \"CSE\", \"CSE\", \"DSC\", \"DSC\", \"DSC\", \"DSC\", \"DSC\", \"DSC\", \"DSC\", \"ECE\", \"ECE\", \"ECE\", \"ECE\", \"ECE\", \"ECE\", \"ECE\", \"ECE\", \"ECE\", \"ECE\", \"ECE\", \"ECE\", \"ECE\", \"ECE\", \"ECE\", \"ECE\", \"ECE\", \"ECE\", \"ECE\", \"ECE\", \"ECE\", \"ECE\", \"ECE\", \"ECE\", \"ECE\", \"ECE\", \"ECE\", \"ECE\", \"ECE\", \"ENG\", \"ENG\", \"ENG\", \"ENG\", \"NANO\", \"NANO\", \"NANO\", \"NANO\", \"NANO\", \"NANO\", \"SE\", \"SE\", \"SE\", \"SE\", \"SE\", \"SE\", \"SE\", \"SE\", \"SE\", \"CENG\", \"CENG\", \"CSE\", \"CSE\", \"CSE\", \"CSE\", \"CSE\", \"CSE\", \"CSE\", \"CSE\", \"CSE\", \"ECE\", \"ECE\", \"ECE\", \"ECE\", \"ENG\", \"ENG\", \"ENG\", \"ENG\", \"SE\", \"SE\", \"CSE\", \"CSE\", \"CSE\", \"ECE\", \"ECE\", \"ECE\", \"SE\", \"BENG\", \"BENG\", \"BENG\", \"BENG\", \"BENG\", \"BENG\", \"BENG\", \"BENG\", \"BENG\", \"BENG\", \"BENG\", \"BENG\", \"BENG\", \"BENG\", \"BENG\", \"BENG\", \"BENG\", \"BENG\", \"BENG\", \"CENG\", \"CENG\", \"CENG\", \"CENG\", \"CENG\", \"CENG\", \"CENG\", \"CENG\", \"CENG\", \"CSE\", \"CSE\", \"CSE\", \"CSE\", \"CSE\", \"CSE\", \"CSE\", \"CSE\", \"CSE\", \"CSE\", \"CSE\", \"CSE\", \"CSE\", \"CSE\", \"CSE\", \"CSE\", \"CSE\", \"CSE\", \"CSE\", \"CSE\", \"CSE\", \"CSE\", \"CSE\", \"CSE\", \"CSE\", \"CSE\", \"CSE\", \"CSE\", \"CSE\", \"CSE\", \"CSE\", \"CSE\", \"CSE\", \"CSE\", \"CSE\", \"CSE\", \"CSE\", \"CSE\", \"CSE\", \"CSE\", \"CSE\", \"CSE\", \"CSE\", \"CSE\", \"CSE\", \"CSE\", \"CSE\", \"CSE\", \"CSE\", \"CSE\", \"CSE\", \"CSE\", \"DSC\", \"DSC\", \"DSC\", \"DSC\", \"ECE\", \"ECE\", \"ECE\", \"ECE\", \"ECE\", \"ECE\", \"ECE\", \"ECE\", \"ECE\", \"ECE\", \"ECE\", \"ECE\", \"ECE\", \"ECE\", \"ECE\", \"ECE\", \"ECE\", \"ECE\", \"ECE\", \"ECE\", \"ECE\", \"ECE\", \"ECE\", \"ECE\", \"ECE\", \"ECE\", \"ECE\", \"ECE\", \"ENG\", \"ENG\", \"ENG\", \"ENG\", \"NANO\", \"NANO\", \"NANO\", \"NANO\", \"NANO\", \"NANO\", \"NANO\", \"SE\", \"SE\", \"SE\", \"SE\", \"SE\", \"SE\", \"SE\", \"SE\", \"SE\", \"SE\", \"SE\", \"SE\", \"SE\", \"SE\", \"SE\", \"SE\", \"SE\", \"BENG\", \"BENG\", \"BENG\", \"BENG\", \"BENG\", \"BENG\", \"BENG\", \"BENG\", \"BENG\", \"BENG\", \"BENG\", \"BENG\", \"BENG\", \"BENG\", \"BENG\", \"CENG\", \"CENG\", \"CENG\", \"CENG\", \"CENG\", \"CENG\", \"CENG\", \"CENG\", \"CENG\", \"CENG\", \"CSE\", \"CSE\", \"CSE\", \"CSE\", \"CSE\", \"CSE\", \"CSE\", \"CSE\", \"CSE\", \"CSE\", \"CSE\", \"CSE\", \"CSE\", \"CSE\", \"CSE\", \"CSE\", \"CSE\", \"CSE\", \"CSE\", \"CSE\", \"CSE\", \"CSE\", \"CSE\", \"CSE\", \"CSE\", \"CSE\", \"CSE\", \"CSE\", \"CSE\", \"CSE\", \"CSE\", \"CSE\", \"CSE\", \"CSE\", \"CSE\", \"CSE\", \"CSE\", \"CSE\", \"CSE\", \"CSE\", \"CSE\", \"CSE\", \"CSE\", \"CSE\", \"CSE\", \"CSE\", \"CSE\", \"CSE\", \"DSC\", \"DSC\", \"DSC\", \"ECE\", \"ECE\", \"ECE\", \"ECE\", \"ECE\", \"ECE\", \"ECE\", \"ECE\", \"ECE\", \"ECE\", \"ECE\", \"ECE\", \"ECE\", \"ECE\", \"ECE\", \"ECE\", \"ECE\", \"ECE\", \"ECE\", \"ECE\", \"ECE\", \"ECE\", \"ECE\", \"ECE\", \"ECE\", \"ECE\", \"ECE\", \"ECE\", \"ECE\", \"ECE\", \"ECE\", \"ENG\", \"ENG\", \"ENG\", \"ENG\", \"ENG\", \"NANO\", \"NANO\", \"NANO\", \"NANO\", \"NANO\", \"NANO\", \"SE\", \"SE\", \"SE\", \"SE\", \"SE\", \"SE\", \"SE\", \"SE\", \"SE\", \"SE\", \"SE\", \"SE\", \"SE\", \"SE\", \"SE\", \"BENG\", \"BENG\", \"BENG\", \"BENG\", \"BENG\", \"BENG\", \"BENG\", \"BENG\", \"BENG\", \"BENG\", \"BENG\", \"BENG\", \"BENG\", \"BENG\", \"CENG\", \"CENG\", \"CENG\", \"CENG\", \"CENG\", \"CENG\", \"CENG\", \"CENG\", \"CSE\", \"CSE\", \"CSE\", \"CSE\", \"CSE\", \"CSE\", \"CSE\", \"CSE\", \"CSE\", \"CSE\", \"CSE\", \"CSE\", \"CSE\", \"CSE\", \"CSE\", \"CSE\", \"CSE\", \"CSE\", \"CSE\", \"CSE\", \"CSE\", \"CSE\", \"CSE\", \"CSE\", \"CSE\", \"CSE\", \"CSE\", \"CSE\", \"CSE\", \"CSE\", \"CSE\", \"CSE\", \"CSE\", \"CSE\", \"CSE\", \"CSE\", \"CSE\", \"CSE\", \"CSE\", \"CSE\", \"CSE\", \"CSE\", \"CSE\", \"CSE\", \"CSE\", \"CSE\", \"CSE\", \"CSE\", \"CSE\", \"CSE\", \"CSE\", \"CSE\", \"CSE\", \"CSE\", \"CSE\", \"CSE\", \"DSC\", \"DSC\", \"DSC\", \"ECE\", \"ECE\", \"ECE\", \"ECE\", \"ECE\", \"ECE\", \"ECE\", \"ECE\", \"ECE\", \"ECE\", \"ECE\", \"ECE\", \"ECE\", \"ECE\", \"ECE\", \"ECE\", \"ECE\", \"ECE\", \"ECE\", \"ECE\", \"ECE\", \"ECE\", \"ECE\", \"ECE\", \"ENG\", \"ENG\", \"ENG\", \"ENG\", \"ENG\", \"NANO\", \"NANO\", \"NANO\", \"NANO\", \"NANO\", \"NANO\", \"SE\", \"SE\", \"SE\", \"SE\", \"SE\", \"SE\", \"SE\", \"SE\", \"SE\"], \"xaxis\": \"x\", \"yaxis\": \"y\"}],\n                        {\"barmode\": \"relative\", \"legend\": {\"title\": {\"text\": \"variable\"}, \"tracegroupgap\": 0}, \"template\": {\"data\": {\"bar\": [{\"error_x\": {\"color\": \"#2a3f5f\"}, \"error_y\": {\"color\": \"#2a3f5f\"}, \"marker\": {\"line\": {\"color\": \"#E5ECF6\", \"width\": 0.5}}, \"type\": \"bar\"}], \"barpolar\": [{\"marker\": {\"line\": {\"color\": \"#E5ECF6\", \"width\": 0.5}}, \"type\": \"barpolar\"}], \"carpet\": [{\"aaxis\": {\"endlinecolor\": \"#2a3f5f\", \"gridcolor\": \"white\", \"linecolor\": \"white\", \"minorgridcolor\": \"white\", \"startlinecolor\": \"#2a3f5f\"}, \"baxis\": {\"endlinecolor\": \"#2a3f5f\", \"gridcolor\": \"white\", \"linecolor\": \"white\", \"minorgridcolor\": \"white\", \"startlinecolor\": \"#2a3f5f\"}, \"type\": \"carpet\"}], \"choropleth\": [{\"colorbar\": {\"outlinewidth\": 0, \"ticks\": \"\"}, \"type\": \"choropleth\"}], \"contour\": [{\"colorbar\": {\"outlinewidth\": 0, \"ticks\": \"\"}, \"colorscale\": [[0.0, \"#0d0887\"], [0.1111111111111111, \"#46039f\"], [0.2222222222222222, \"#7201a8\"], [0.3333333333333333, \"#9c179e\"], [0.4444444444444444, \"#bd3786\"], [0.5555555555555556, \"#d8576b\"], [0.6666666666666666, \"#ed7953\"], [0.7777777777777778, \"#fb9f3a\"], [0.8888888888888888, \"#fdca26\"], [1.0, \"#f0f921\"]], \"type\": \"contour\"}], \"contourcarpet\": [{\"colorbar\": {\"outlinewidth\": 0, \"ticks\": \"\"}, \"type\": \"contourcarpet\"}], \"heatmap\": [{\"colorbar\": {\"outlinewidth\": 0, \"ticks\": \"\"}, \"colorscale\": [[0.0, \"#0d0887\"], [0.1111111111111111, \"#46039f\"], [0.2222222222222222, \"#7201a8\"], [0.3333333333333333, \"#9c179e\"], [0.4444444444444444, \"#bd3786\"], [0.5555555555555556, \"#d8576b\"], [0.6666666666666666, \"#ed7953\"], [0.7777777777777778, \"#fb9f3a\"], [0.8888888888888888, \"#fdca26\"], [1.0, \"#f0f921\"]], \"type\": \"heatmap\"}], \"heatmapgl\": [{\"colorbar\": {\"outlinewidth\": 0, \"ticks\": \"\"}, \"colorscale\": [[0.0, \"#0d0887\"], [0.1111111111111111, \"#46039f\"], [0.2222222222222222, \"#7201a8\"], [0.3333333333333333, \"#9c179e\"], [0.4444444444444444, \"#bd3786\"], [0.5555555555555556, \"#d8576b\"], [0.6666666666666666, \"#ed7953\"], [0.7777777777777778, \"#fb9f3a\"], [0.8888888888888888, \"#fdca26\"], [1.0, \"#f0f921\"]], \"type\": \"heatmapgl\"}], \"histogram\": [{\"marker\": {\"colorbar\": {\"outlinewidth\": 0, \"ticks\": \"\"}}, \"type\": \"histogram\"}], \"histogram2d\": [{\"colorbar\": {\"outlinewidth\": 0, \"ticks\": \"\"}, \"colorscale\": [[0.0, \"#0d0887\"], [0.1111111111111111, \"#46039f\"], [0.2222222222222222, \"#7201a8\"], [0.3333333333333333, \"#9c179e\"], [0.4444444444444444, \"#bd3786\"], [0.5555555555555556, \"#d8576b\"], [0.6666666666666666, \"#ed7953\"], [0.7777777777777778, \"#fb9f3a\"], [0.8888888888888888, \"#fdca26\"], [1.0, \"#f0f921\"]], \"type\": \"histogram2d\"}], \"histogram2dcontour\": [{\"colorbar\": {\"outlinewidth\": 0, \"ticks\": \"\"}, \"colorscale\": [[0.0, \"#0d0887\"], [0.1111111111111111, \"#46039f\"], [0.2222222222222222, \"#7201a8\"], [0.3333333333333333, \"#9c179e\"], [0.4444444444444444, \"#bd3786\"], [0.5555555555555556, \"#d8576b\"], [0.6666666666666666, \"#ed7953\"], [0.7777777777777778, \"#fb9f3a\"], [0.8888888888888888, \"#fdca26\"], [1.0, \"#f0f921\"]], \"type\": \"histogram2dcontour\"}], \"mesh3d\": [{\"colorbar\": {\"outlinewidth\": 0, \"ticks\": \"\"}, \"type\": \"mesh3d\"}], \"parcoords\": [{\"line\": {\"colorbar\": {\"outlinewidth\": 0, \"ticks\": \"\"}}, \"type\": \"parcoords\"}], \"pie\": [{\"automargin\": true, \"type\": \"pie\"}], \"scatter\": [{\"marker\": {\"colorbar\": {\"outlinewidth\": 0, \"ticks\": \"\"}}, \"type\": \"scatter\"}], \"scatter3d\": [{\"line\": {\"colorbar\": {\"outlinewidth\": 0, \"ticks\": \"\"}}, \"marker\": {\"colorbar\": {\"outlinewidth\": 0, \"ticks\": \"\"}}, \"type\": \"scatter3d\"}], \"scattercarpet\": [{\"marker\": {\"colorbar\": {\"outlinewidth\": 0, \"ticks\": \"\"}}, \"type\": \"scattercarpet\"}], \"scattergeo\": [{\"marker\": {\"colorbar\": {\"outlinewidth\": 0, \"ticks\": \"\"}}, \"type\": \"scattergeo\"}], \"scattergl\": [{\"marker\": {\"colorbar\": {\"outlinewidth\": 0, \"ticks\": \"\"}}, \"type\": \"scattergl\"}], \"scattermapbox\": [{\"marker\": {\"colorbar\": {\"outlinewidth\": 0, \"ticks\": \"\"}}, \"type\": \"scattermapbox\"}], \"scatterpolar\": [{\"marker\": {\"colorbar\": {\"outlinewidth\": 0, \"ticks\": \"\"}}, \"type\": \"scatterpolar\"}], \"scatterpolargl\": [{\"marker\": {\"colorbar\": {\"outlinewidth\": 0, \"ticks\": \"\"}}, \"type\": \"scatterpolargl\"}], \"scatterternary\": [{\"marker\": {\"colorbar\": {\"outlinewidth\": 0, \"ticks\": \"\"}}, \"type\": \"scatterternary\"}], \"surface\": [{\"colorbar\": {\"outlinewidth\": 0, \"ticks\": \"\"}, \"colorscale\": [[0.0, \"#0d0887\"], [0.1111111111111111, \"#46039f\"], [0.2222222222222222, \"#7201a8\"], [0.3333333333333333, \"#9c179e\"], [0.4444444444444444, \"#bd3786\"], [0.5555555555555556, \"#d8576b\"], [0.6666666666666666, \"#ed7953\"], [0.7777777777777778, \"#fb9f3a\"], [0.8888888888888888, \"#fdca26\"], [1.0, \"#f0f921\"]], \"type\": \"surface\"}], \"table\": [{\"cells\": {\"fill\": {\"color\": \"#EBF0F8\"}, \"line\": {\"color\": \"white\"}}, \"header\": {\"fill\": {\"color\": \"#C8D4E3\"}, \"line\": {\"color\": \"white\"}}, \"type\": \"table\"}]}, \"layout\": {\"annotationdefaults\": {\"arrowcolor\": \"#2a3f5f\", \"arrowhead\": 0, \"arrowwidth\": 1}, \"coloraxis\": {\"colorbar\": {\"outlinewidth\": 0, \"ticks\": \"\"}}, \"colorscale\": {\"diverging\": [[0, \"#8e0152\"], [0.1, \"#c51b7d\"], [0.2, \"#de77ae\"], [0.3, \"#f1b6da\"], [0.4, \"#fde0ef\"], [0.5, \"#f7f7f7\"], [0.6, \"#e6f5d0\"], [0.7, \"#b8e186\"], [0.8, \"#7fbc41\"], [0.9, \"#4d9221\"], [1, \"#276419\"]], \"sequential\": [[0.0, \"#0d0887\"], [0.1111111111111111, \"#46039f\"], [0.2222222222222222, \"#7201a8\"], [0.3333333333333333, \"#9c179e\"], [0.4444444444444444, \"#bd3786\"], [0.5555555555555556, \"#d8576b\"], [0.6666666666666666, \"#ed7953\"], [0.7777777777777778, \"#fb9f3a\"], [0.8888888888888888, \"#fdca26\"], [1.0, \"#f0f921\"]], \"sequentialminus\": [[0.0, \"#0d0887\"], [0.1111111111111111, \"#46039f\"], [0.2222222222222222, \"#7201a8\"], [0.3333333333333333, \"#9c179e\"], [0.4444444444444444, \"#bd3786\"], [0.5555555555555556, \"#d8576b\"], [0.6666666666666666, \"#ed7953\"], [0.7777777777777778, \"#fb9f3a\"], [0.8888888888888888, \"#fdca26\"], [1.0, \"#f0f921\"]]}, \"colorway\": [\"#636efa\", \"#EF553B\", \"#00cc96\", \"#ab63fa\", \"#FFA15A\", \"#19d3f3\", \"#FF6692\", \"#B6E880\", \"#FF97FF\", \"#FECB52\"], \"font\": {\"color\": \"#2a3f5f\"}, \"geo\": {\"bgcolor\": \"white\", \"lakecolor\": \"white\", \"landcolor\": \"#E5ECF6\", \"showlakes\": true, \"showland\": true, \"subunitcolor\": \"white\"}, \"hoverlabel\": {\"align\": \"left\"}, \"hovermode\": \"closest\", \"mapbox\": {\"style\": \"light\"}, \"paper_bgcolor\": \"white\", \"plot_bgcolor\": \"#E5ECF6\", \"polar\": {\"angularaxis\": {\"gridcolor\": \"white\", \"linecolor\": \"white\", \"ticks\": \"\"}, \"bgcolor\": \"#E5ECF6\", \"radialaxis\": {\"gridcolor\": \"white\", \"linecolor\": \"white\", \"ticks\": \"\"}}, \"scene\": {\"xaxis\": {\"backgroundcolor\": \"#E5ECF6\", \"gridcolor\": \"white\", \"gridwidth\": 2, \"linecolor\": \"white\", \"showbackground\": true, \"ticks\": \"\", \"zerolinecolor\": \"white\"}, \"yaxis\": {\"backgroundcolor\": \"#E5ECF6\", \"gridcolor\": \"white\", \"gridwidth\": 2, \"linecolor\": \"white\", \"showbackground\": true, \"ticks\": \"\", \"zerolinecolor\": \"white\"}, \"zaxis\": {\"backgroundcolor\": \"#E5ECF6\", \"gridcolor\": \"white\", \"gridwidth\": 2, \"linecolor\": \"white\", \"showbackground\": true, \"ticks\": \"\", \"zerolinecolor\": \"white\"}}, \"shapedefaults\": {\"line\": {\"color\": \"#2a3f5f\"}}, \"ternary\": {\"aaxis\": {\"gridcolor\": \"white\", \"linecolor\": \"white\", \"ticks\": \"\"}, \"baxis\": {\"gridcolor\": \"white\", \"linecolor\": \"white\", \"ticks\": \"\"}, \"bgcolor\": \"#E5ECF6\", \"caxis\": {\"gridcolor\": \"white\", \"linecolor\": \"white\", \"ticks\": \"\"}}, \"title\": {\"x\": 0.05}, \"xaxis\": {\"automargin\": true, \"gridcolor\": \"white\", \"linecolor\": \"white\", \"ticks\": \"\", \"title\": {\"standoff\": 15}, \"zerolinecolor\": \"white\", \"zerolinewidth\": 2}, \"yaxis\": {\"automargin\": true, \"gridcolor\": \"white\", \"linecolor\": \"white\", \"ticks\": \"\", \"title\": {\"standoff\": 15}, \"zerolinecolor\": \"white\", \"zerolinewidth\": 2}}}, \"title\": {\"text\": \"Engineering Course Types in Our Data\"}, \"xaxis\": {\"anchor\": \"y\", \"categoryorder\": \"total descending\", \"domain\": [0.0, 1.0], \"title\": {\"text\": \"Course Type\"}}, \"yaxis\": {\"anchor\": \"x\", \"domain\": [0.0, 1.0], \"title\": {\"text\": \"count\"}}},\n                        {\"responsive\": true}\n                    ).then(function(){\n                            \nvar gd = document.getElementById('a2111d2a-d3f4-47de-abf7-fa41d2d603c6');\nvar x = new MutationObserver(function (mutations, observer) {{\n        var display = window.getComputedStyle(gd).display;\n        if (!display || display === 'none') {{\n            console.log([gd, 'removed!']);\n            Plotly.purge(gd);\n            observer.disconnect();\n        }}\n}});\n\n// Listen for the removal of the full notebook cells\nvar notebookContainer = gd.closest('#notebook-container');\nif (notebookContainer) {{\n    x.observe(notebookContainer, {childList: true});\n}}\n\n// Listen for the clearing of the current output cell\nvar outputEl = gd.closest('.output');\nif (outputEl) {{\n    x.observe(outputEl, {childList: true});\n}}\n\n                        })\n                };\n                });\n            </script>\n        </div>"
     },
     "metadata": {},
     "output_type": "display_data"
    }
   ],
   "source": [
    "all_course_names = eng_df['course'].str.split().str[0]\n",
    "hist = px.histogram(all_course_names,\n",
    "                    labels={'value': 'Course Type'},\n",
    "                    title='Engineering Course Types in Our Data',\n",
    "                    color_discrete_sequence=['deepskyblue']\n",
    "                    )\\\n",
    "    .update_xaxes(categoryorder='total descending')\n",
    "hist.show()"
   ],
   "metadata": {
    "collapsed": false,
    "pycharm": {
     "name": "#%%\n"
    }
   }
  },
  {
   "cell_type": "code",
   "execution_count": 24,
   "outputs": [
    {
     "ename": "ValueError",
     "evalue": "\n    Invalid element(s) received for the 'data' property of \n        Invalid elements include: [Figure({\n    'data': [{'alignmentgroup': 'True',\n              'hovertemplate': 'y=%{y}<extra></extra>',\n              'legendgroup': '',\n              'marker': {'color': '#636efa'},\n              'name': '',\n              'notched': False,\n              'offsetgroup': '',\n              'orientation': 'v',\n              'showlegend': False,\n              'type': 'box',\n              'x0': ' ',\n              'xaxis': 'x',\n              'y': array([1.   , 0.946, 0.457, 0.606, 0.789, 0.789, 1.   , 0.8  , 1.   , 0.921,\n                          0.857, 0.9  , 0.8  , 0.917, 0.946, 0.905, 0.982, 0.358, 0.845, 0.484,\n                          0.929, 0.8  , 0.929, 0.714, 0.852, 0.895, 1.   , 0.8  , 0.885, 0.897,\n                          0.95 , 0.816, 0.525, 0.868, 0.846, 0.84 , 1.   , 0.943, 0.889, 1.   ,\n                          0.886, 0.969, 1.   , 0.889, 0.722, 0.853, 0.885, 0.833, 0.7  , 0.706,\n                          0.97 , 0.948, 0.92 , 0.893, 0.64 , 0.833, 0.968, 0.983, 0.96 , 0.955,\n                          0.868, 0.912, 1.   , 0.933, 0.932, 0.85 , 0.929, 0.913, 0.957, 0.957,\n                          0.972, 0.947, 0.938, 1.   ]),\n              'y0': ' ',\n              'yaxis': 'y'}],\n    'layout': {'boxmode': 'group',\n               'legend': {'tracegroupgap': 0},\n               'margin': {'t': 60},\n               'template': '...',\n               'xaxis': {'anchor': 'y', 'domain': [0.0, 1.0]},\n               'yaxis': {'anchor': 'x', 'domain': [0.0, 1.0], 'title': {'text': 'y'}}}\n}), Figure({\n    'data': [{'alignmentgroup': 'True',\n              'hovertemplate': 'y=%{y}<extra></extra>',\n              'legendgroup': '',\n              'marker': {'color': '#636efa'},\n              'name': '',\n              'notched': False,\n              'offsetgroup': '',\n              'orientation': 'v',\n              'showlegend': False,\n              'type': 'box',\n              'x0': ' ',\n              'xaxis': 'x',\n              'y': array([0.848, 0.977, 1.   , ..., 0.908, 0.875, 0.739]),\n              'y0': ' ',\n              'yaxis': 'y'}],\n    'layout': {'boxmode': 'group',\n               'legend': {'tracegroupgap': 0},\n               'margin': {'t': 60},\n               'template': '...',\n               'xaxis': {'anchor': 'y', 'domain': [0.0, 1.0]},\n               'yaxis': {'anchor': 'x', 'domain': [0.0, 1.0], 'title': {'text': 'y'}}}\n}), Figure({\n    'data': [{'alignmentgroup': 'True',\n              'hovertemplate': 'y=%{y}<extra></extra>',\n              'legendgroup': '',\n              'marker': {'color': '#636efa'},\n              'name': '',\n              'notched': False,\n              'offsetgroup': '',\n              'orientation': 'v',\n              'showlegend': False,\n              'type': 'box',\n              'x0': ' ',\n              'xaxis': 'x',\n              'y': array([1.   , 0.943, 0.8  , ..., 0.958, 0.967, 0.921]),\n              'y0': ' ',\n              'yaxis': 'y'}],\n    'layout': {'boxmode': 'group',\n               'legend': {'tracegroupgap': 0},\n               'margin': {'t': 60},\n               'template': '...',\n               'xaxis': {'anchor': 'y', 'domain': [0.0, 1.0]},\n               'yaxis': {'anchor': 'x', 'domain': [0.0, 1.0], 'title': {'text': 'y'}}}\n}), Figure({\n    'data': [{'alignmentgroup': 'True',\n              'hovertemplate': 'y=%{y}<extra></extra>',\n              'legendgroup': '',\n              'marker': {'color': '#636efa'},\n              'name': '',\n              'notched': False,\n              'offsetgroup': '',\n              'orientation': 'v',\n              'showlegend': False,\n              'type': 'box',\n              'x0': ' ',\n              'xaxis': 'x',\n              'y': array([1.   , 0.943, 0.8  , ..., 0.875, 1.   , 1.   ]),\n              'y0': ' ',\n              'yaxis': 'y'}],\n    'layout': {'boxmode': 'group',\n               'legend': {'tracegroupgap': 0},\n               'margin': {'t': 60},\n               'template': '...',\n               'xaxis': {'anchor': 'y', 'domain': [0.0, 1.0]},\n               'yaxis': {'anchor': 'x', 'domain': [0.0, 1.0], 'title': {'text': 'y'}}}\n}), Figure({\n    'data': [{'alignmentgroup': 'True',\n              'hovertemplate': 'y=%{y}<extra></extra>',\n              'legendgroup': '',\n              'marker': {'color': '#636efa'},\n              'name': '',\n              'notched': False,\n              'offsetgroup': '',\n              'orientation': 'v',\n              'showlegend': False,\n              'type': 'box',\n              'x0': ' ',\n              'xaxis': 'x',\n              'y': array([0.703, 0.64 , 0.732, 0.636, 0.833, 0.9  , 0.967, 0.854, 0.964, 0.964,\n                          0.846, 0.894, 0.963, 0.958, 0.938, 0.909, 0.978, 0.955, 0.409, 0.409,\n                          0.773, 0.875, 0.875, 0.857, 0.8  , 0.466, 0.966, 0.682, 0.897, 0.857,\n                          0.909, 0.625, 0.667, 0.837, 0.907, 0.353, 0.222, 0.5  , 0.667, 0.75 ,\n                          1.   , 0.941, 0.972, 0.81 , 0.111, 0.8  , 0.889, 0.667, 0.6  , 0.7  ,\n                          0.868, 0.946, 1.   , 1.   , 0.781, 1.   , 0.462, 0.781, 0.929, 0.929,\n                          0.714, 0.826, 1.   , 0.889, 0.857, 0.5  , 0.5  , 0.765, 0.667, 0.558,\n                          0.922, 1.   , 1.   , 0.333, 0.95 , 0.5  , 1.   , 0.938, 0.968, 0.769,\n                          0.941, 0.875, 0.931, 0.909, 0.842, 0.146, 0.667, 0.692, 1.   , 0.764,\n                          0.632, 0.873, 0.556, 0.811, 0.811, 0.913, 0.706, 1.   , 0.807, 0.833,\n                          0.833, 0.833, 0.632, 1.   , 0.75 , 0.929, 0.375, 0.375, 0.9  , 0.6  ,\n                          0.68 , 0.68 , 0.667, 0.889, 0.737, 0.917, 0.667, 0.867, 1.   , 1.   ,\n                          0.706, 0.818, 1.   , 0.628, 0.8  , 0.3  , 1.   , 0.364, 1.   , 0.976,\n                          1.   , 0.361, 1.   , 0.729, 0.862, 1.   , 0.846]),\n              'y0': ' ',\n              'yaxis': 'y'}],\n    'layout': {'boxmode': 'group',\n               'legend': {'tracegroupgap': 0},\n               'margin': {'t': 60},\n               'template': '...',\n               'xaxis': {'anchor': 'y', 'domain': [0.0, 1.0]},\n               'yaxis': {'anchor': 'x', 'domain': [0.0, 1.0], 'title': {'text': 'y'}}}\n}), Figure({\n    'data': [{'alignmentgroup': 'True',\n              'hovertemplate': 'y=%{y}<extra></extra>',\n              'legendgroup': '',\n              'marker': {'color': '#636efa'},\n              'name': '',\n              'notched': False,\n              'offsetgroup': '',\n              'orientation': 'v',\n              'showlegend': False,\n              'type': 'box',\n              'x0': ' ',\n              'xaxis': 'x',\n              'y': array([0.96 , 0.806, 0.97 , 0.915, 0.915, 0.958, 0.897, 0.938, 0.909, 0.935,\n                          0.956, 0.918, 0.849, 0.88 , 0.878, 0.909, 0.867, 1.   , 0.909, 0.933,\n                          0.982, 1.   , 0.857, 0.747, 0.765, 0.923, 0.735, 0.952, 0.929, 0.969,\n                          0.83 , 1.   , 0.925, 0.737, 0.912, 0.895, 0.815, 0.815, 1.   , 1.   ,\n                          0.957, 0.9  , 0.853, 0.935, 0.932, 0.85 , 0.805, 0.754, 0.754, 0.833,\n                          0.95 , 0.952, 0.907, 0.962, 0.762, 0.837, 1.   , 0.844, 0.867, 0.846,\n                          0.818, 1.   , 0.905, 0.896, 0.915, 0.95 , 0.617, 0.622, 0.824, 0.976,\n                          0.966, 1.   , 0.896, 0.889, 0.954, 0.8  , 0.833, 0.568, 0.581, 0.941,\n                          0.92 , 0.857, 0.902, 0.921, 0.955, 0.785, 0.96 , 0.943, 0.848, 0.867]),\n              'y0': ' ',\n              'yaxis': 'y'}],\n    'layout': {'boxmode': 'group',\n               'legend': {'tracegroupgap': 0},\n               'margin': {'t': 60},\n               'template': '...',\n               'xaxis': {'anchor': 'y', 'domain': [0.0, 1.0]},\n               'yaxis': {'anchor': 'x', 'domain': [0.0, 1.0], 'title': {'text': 'y'}}}\n}), Figure({\n    'data': [{'alignmentgroup': 'True',\n              'hovertemplate': 'y=%{y}<extra></extra>',\n              'legendgroup': '',\n              'marker': {'color': '#636efa'},\n              'name': '',\n              'notched': False,\n              'offsetgroup': '',\n              'orientation': 'v',\n              'showlegend': False,\n              'type': 'box',\n              'x0': ' ',\n              'xaxis': 'x',\n              'y': array([0.703, 0.64 , 0.732, ..., 0.919, 0.935, 0.976]),\n              'y0': ' ',\n              'yaxis': 'y'}],\n    'layout': {'boxmode': 'group',\n               'legend': {'tracegroupgap': 0},\n               'margin': {'t': 60},\n               'template': '...',\n               'xaxis': {'anchor': 'y', 'domain': [0.0, 1.0]},\n               'yaxis': {'anchor': 'x', 'domain': [0.0, 1.0], 'title': {'text': 'y'}}}\n}), Figure({\n    'data': [{'alignmentgroup': 'True',\n              'hovertemplate': 'y=%{y}<extra></extra>',\n              'legendgroup': '',\n              'marker': {'color': '#636efa'},\n              'name': '',\n              'notched': False,\n              'offsetgroup': '',\n              'orientation': 'v',\n              'showlegend': False,\n              'type': 'box',\n              'x0': ' ',\n              'xaxis': 'x',\n              'y': array([0.895, 0.878, 0.842, 0.75 , 0.5  , 1.   , 1.   , 0.968, 1.   , 0.917,\n                          0.923, 1.   , 0.895, 0.682, 0.8  , 0.5  , 0.833, 0.593, 0.759, 1.   ,\n                          0.923, 0.86 , 0.941, 0.865, 0.804, 0.833, 1.   , 0.429, 0.889, 0.889,\n                          0.944, 0.679, 0.958, 0.722, 0.778, 0.571, 0.625, 0.788, 0.927, 0.643,\n                          0.824, 0.864, 0.908, 0.56 , 0.81 , 0.75 , 0.875, 0.912, 1.   , 0.909,\n                          1.   , 1.   , 0.261, 0.8  , 0.778, 0.909, 0.934, 0.679, 0.943, 0.923,\n                          0.84 , 0.986]),\n              'y0': ' ',\n              'yaxis': 'y'}],\n    'layout': {'boxmode': 'group',\n               'legend': {'tracegroupgap': 0},\n               'margin': {'t': 60},\n               'template': '...',\n               'xaxis': {'anchor': 'y', 'domain': [0.0, 1.0]},\n               'yaxis': {'anchor': 'x', 'domain': [0.0, 1.0], 'title': {'text': 'y'}}}\n})]\n\n    The 'data' property is a tuple of trace instances\n    that may be specified as:\n      - A list or tuple of trace instances\n        (e.g. [Scatter(...), Bar(...)])\n      - A single trace instance\n        (e.g. Scatter(...), Bar(...), etc.)\n      - A list or tuple of dicts of string/value properties where:\n        - The 'type' property specifies the trace type\n            One of: ['area', 'bar', 'barpolar', 'box',\n                     'candlestick', 'carpet', 'choropleth',\n                     'choroplethmapbox', 'cone', 'contour',\n                     'contourcarpet', 'densitymapbox', 'funnel',\n                     'funnelarea', 'heatmap', 'heatmapgl',\n                     'histogram', 'histogram2d',\n                     'histogram2dcontour', 'image', 'indicator',\n                     'isosurface', 'mesh3d', 'ohlc', 'parcats',\n                     'parcoords', 'pie', 'pointcloud', 'sankey',\n                     'scatter', 'scatter3d', 'scattercarpet',\n                     'scattergeo', 'scattergl', 'scattermapbox',\n                     'scatterpolar', 'scatterpolargl',\n                     'scatterternary', 'splom', 'streamtube',\n                     'sunburst', 'surface', 'table', 'treemap',\n                     'violin', 'volume', 'waterfall']\n\n        - All remaining properties are passed to the constructor of\n          the specified trace type\n\n        (e.g. [{'type': 'scatter', ...}, {'type': 'bar, ...}])",
     "output_type": "error",
     "traceback": [
      "\u001B[0;31m---------------------------------------------------------------------------\u001B[0m",
      "\u001B[0;31mValueError\u001B[0m                                Traceback (most recent call last)",
      "\u001B[0;32m<ipython-input-24-73c92c79aedf>\u001B[0m in \u001B[0;36m<module>\u001B[0;34m\u001B[0m\n\u001B[1;32m      4\u001B[0m     \u001B[0mtraces\u001B[0m\u001B[0;34m.\u001B[0m\u001B[0mappend\u001B[0m\u001B[0;34m(\u001B[0m\u001B[0mpx\u001B[0m\u001B[0;34m.\u001B[0m\u001B[0mbox\u001B[0m\u001B[0;34m(\u001B[0m\u001B[0my\u001B[0m\u001B[0;34m=\u001B[0m\u001B[0mcurr\u001B[0m\u001B[0;34m[\u001B[0m\u001B[0;34m'rcmnd_class'\u001B[0m\u001B[0;34m]\u001B[0m\u001B[0;34m)\u001B[0m\u001B[0;34m)\u001B[0m\u001B[0;34m\u001B[0m\u001B[0;34m\u001B[0m\u001B[0m\n\u001B[1;32m      5\u001B[0m \u001B[0;34m\u001B[0m\u001B[0m\n\u001B[0;32m----> 6\u001B[0;31m \u001B[0mfig\u001B[0m \u001B[0;34m=\u001B[0m \u001B[0mgo\u001B[0m\u001B[0;34m.\u001B[0m\u001B[0mFigure\u001B[0m\u001B[0;34m(\u001B[0m\u001B[0mdata\u001B[0m\u001B[0;34m=\u001B[0m\u001B[0;34m(\u001B[0m\u001B[0mtraces\u001B[0m\u001B[0;34m)\u001B[0m\u001B[0;34m)\u001B[0m\u001B[0;34m\u001B[0m\u001B[0;34m\u001B[0m\u001B[0m\n\u001B[0m",
      "\u001B[0;32m/Library/Frameworks/Python.framework/Versions/3.8/lib/python3.8/site-packages/plotly/graph_objs/_figure.py\u001B[0m in \u001B[0;36m__init__\u001B[0;34m(self, data, layout, frames, skip_invalid, **kwargs)\u001B[0m\n\u001B[1;32m    582\u001B[0m             \u001B[0;32mis\u001B[0m \u001B[0minvalid\u001B[0m \u001B[0mAND\u001B[0m \u001B[0mskip_invalid\u001B[0m \u001B[0;32mis\u001B[0m \u001B[0;32mFalse\u001B[0m\u001B[0;34m\u001B[0m\u001B[0;34m\u001B[0m\u001B[0m\n\u001B[1;32m    583\u001B[0m         \"\"\"\n\u001B[0;32m--> 584\u001B[0;31m         \u001B[0msuper\u001B[0m\u001B[0;34m(\u001B[0m\u001B[0mFigure\u001B[0m\u001B[0;34m,\u001B[0m \u001B[0mself\u001B[0m\u001B[0;34m)\u001B[0m\u001B[0;34m.\u001B[0m\u001B[0m__init__\u001B[0m\u001B[0;34m(\u001B[0m\u001B[0mdata\u001B[0m\u001B[0;34m,\u001B[0m \u001B[0mlayout\u001B[0m\u001B[0;34m,\u001B[0m \u001B[0mframes\u001B[0m\u001B[0;34m,\u001B[0m \u001B[0mskip_invalid\u001B[0m\u001B[0;34m,\u001B[0m \u001B[0;34m**\u001B[0m\u001B[0mkwargs\u001B[0m\u001B[0;34m)\u001B[0m\u001B[0;34m\u001B[0m\u001B[0;34m\u001B[0m\u001B[0m\n\u001B[0m\u001B[1;32m    585\u001B[0m \u001B[0;34m\u001B[0m\u001B[0m\n\u001B[1;32m    586\u001B[0m     def add_area(\n",
      "\u001B[0;32m/Library/Frameworks/Python.framework/Versions/3.8/lib/python3.8/site-packages/plotly/basedatatypes.py\u001B[0m in \u001B[0;36m__init__\u001B[0;34m(self, data, layout_plotly, frames, skip_invalid, **kwargs)\u001B[0m\n\u001B[1;32m    144\u001B[0m \u001B[0;34m\u001B[0m\u001B[0m\n\u001B[1;32m    145\u001B[0m         \u001B[0;31m# ### Import traces ###\u001B[0m\u001B[0;34m\u001B[0m\u001B[0;34m\u001B[0m\u001B[0;34m\u001B[0m\u001B[0m\n\u001B[0;32m--> 146\u001B[0;31m         data = self._data_validator.validate_coerce(\n\u001B[0m\u001B[1;32m    147\u001B[0m             \u001B[0mdata\u001B[0m\u001B[0;34m,\u001B[0m \u001B[0mskip_invalid\u001B[0m\u001B[0;34m=\u001B[0m\u001B[0mskip_invalid\u001B[0m\u001B[0;34m,\u001B[0m \u001B[0m_validate\u001B[0m\u001B[0;34m=\u001B[0m\u001B[0mself\u001B[0m\u001B[0;34m.\u001B[0m\u001B[0m_validate\u001B[0m\u001B[0;34m\u001B[0m\u001B[0;34m\u001B[0m\u001B[0m\n\u001B[1;32m    148\u001B[0m         )\n",
      "\u001B[0;32m/Library/Frameworks/Python.framework/Versions/3.8/lib/python3.8/site-packages/_plotly_utils/basevalidators.py\u001B[0m in \u001B[0;36mvalidate_coerce\u001B[0;34m(self, v, skip_invalid, _validate)\u001B[0m\n\u001B[1;32m   2671\u001B[0m \u001B[0;34m\u001B[0m\u001B[0m\n\u001B[1;32m   2672\u001B[0m             \u001B[0;32mif\u001B[0m \u001B[0minvalid_els\u001B[0m\u001B[0;34m:\u001B[0m\u001B[0;34m\u001B[0m\u001B[0;34m\u001B[0m\u001B[0m\n\u001B[0;32m-> 2673\u001B[0;31m                 \u001B[0mself\u001B[0m\u001B[0;34m.\u001B[0m\u001B[0mraise_invalid_elements\u001B[0m\u001B[0;34m(\u001B[0m\u001B[0minvalid_els\u001B[0m\u001B[0;34m)\u001B[0m\u001B[0;34m\u001B[0m\u001B[0;34m\u001B[0m\u001B[0m\n\u001B[0m\u001B[1;32m   2674\u001B[0m \u001B[0;34m\u001B[0m\u001B[0m\n\u001B[1;32m   2675\u001B[0m             \u001B[0mv\u001B[0m \u001B[0;34m=\u001B[0m \u001B[0mto_scalar_or_list\u001B[0m\u001B[0;34m(\u001B[0m\u001B[0mres\u001B[0m\u001B[0;34m)\u001B[0m\u001B[0;34m\u001B[0m\u001B[0;34m\u001B[0m\u001B[0m\n",
      "\u001B[0;32m/Library/Frameworks/Python.framework/Versions/3.8/lib/python3.8/site-packages/_plotly_utils/basevalidators.py\u001B[0m in \u001B[0;36mraise_invalid_elements\u001B[0;34m(self, invalid_els)\u001B[0m\n\u001B[1;32m    289\u001B[0m     \u001B[0;32mdef\u001B[0m \u001B[0mraise_invalid_elements\u001B[0m\u001B[0;34m(\u001B[0m\u001B[0mself\u001B[0m\u001B[0;34m,\u001B[0m \u001B[0minvalid_els\u001B[0m\u001B[0;34m)\u001B[0m\u001B[0;34m:\u001B[0m\u001B[0;34m\u001B[0m\u001B[0;34m\u001B[0m\u001B[0m\n\u001B[1;32m    290\u001B[0m         \u001B[0;32mif\u001B[0m \u001B[0minvalid_els\u001B[0m\u001B[0;34m:\u001B[0m\u001B[0;34m\u001B[0m\u001B[0;34m\u001B[0m\u001B[0m\n\u001B[0;32m--> 291\u001B[0;31m             raise ValueError(\n\u001B[0m\u001B[1;32m    292\u001B[0m                 \"\"\"\n\u001B[1;32m    293\u001B[0m     \u001B[0mInvalid\u001B[0m \u001B[0melement\u001B[0m\u001B[0;34m(\u001B[0m\u001B[0ms\u001B[0m\u001B[0;34m)\u001B[0m \u001B[0mreceived\u001B[0m \u001B[0;32mfor\u001B[0m \u001B[0mthe\u001B[0m \u001B[0;34m'{name}'\u001B[0m \u001B[0mproperty\u001B[0m \u001B[0mof\u001B[0m \u001B[0;34m{\u001B[0m\u001B[0mpname\u001B[0m\u001B[0;34m}\u001B[0m\u001B[0;34m\u001B[0m\u001B[0;34m\u001B[0m\u001B[0m\n",
      "\u001B[0;31mValueError\u001B[0m: \n    Invalid element(s) received for the 'data' property of \n        Invalid elements include: [Figure({\n    'data': [{'alignmentgroup': 'True',\n              'hovertemplate': 'y=%{y}<extra></extra>',\n              'legendgroup': '',\n              'marker': {'color': '#636efa'},\n              'name': '',\n              'notched': False,\n              'offsetgroup': '',\n              'orientation': 'v',\n              'showlegend': False,\n              'type': 'box',\n              'x0': ' ',\n              'xaxis': 'x',\n              'y': array([1.   , 0.946, 0.457, 0.606, 0.789, 0.789, 1.   , 0.8  , 1.   , 0.921,\n                          0.857, 0.9  , 0.8  , 0.917, 0.946, 0.905, 0.982, 0.358, 0.845, 0.484,\n                          0.929, 0.8  , 0.929, 0.714, 0.852, 0.895, 1.   , 0.8  , 0.885, 0.897,\n                          0.95 , 0.816, 0.525, 0.868, 0.846, 0.84 , 1.   , 0.943, 0.889, 1.   ,\n                          0.886, 0.969, 1.   , 0.889, 0.722, 0.853, 0.885, 0.833, 0.7  , 0.706,\n                          0.97 , 0.948, 0.92 , 0.893, 0.64 , 0.833, 0.968, 0.983, 0.96 , 0.955,\n                          0.868, 0.912, 1.   , 0.933, 0.932, 0.85 , 0.929, 0.913, 0.957, 0.957,\n                          0.972, 0.947, 0.938, 1.   ]),\n              'y0': ' ',\n              'yaxis': 'y'}],\n    'layout': {'boxmode': 'group',\n               'legend': {'tracegroupgap': 0},\n               'margin': {'t': 60},\n               'template': '...',\n               'xaxis': {'anchor': 'y', 'domain': [0.0, 1.0]},\n               'yaxis': {'anchor': 'x', 'domain': [0.0, 1.0], 'title': {'text': 'y'}}}\n}), Figure({\n    'data': [{'alignmentgroup': 'True',\n              'hovertemplate': 'y=%{y}<extra></extra>',\n              'legendgroup': '',\n              'marker': {'color': '#636efa'},\n              'name': '',\n              'notched': False,\n              'offsetgroup': '',\n              'orientation': 'v',\n              'showlegend': False,\n              'type': 'box',\n              'x0': ' ',\n              'xaxis': 'x',\n              'y': array([0.848, 0.977, 1.   , ..., 0.908, 0.875, 0.739]),\n              'y0': ' ',\n              'yaxis': 'y'}],\n    'layout': {'boxmode': 'group',\n               'legend': {'tracegroupgap': 0},\n               'margin': {'t': 60},\n               'template': '...',\n               'xaxis': {'anchor': 'y', 'domain': [0.0, 1.0]},\n               'yaxis': {'anchor': 'x', 'domain': [0.0, 1.0], 'title': {'text': 'y'}}}\n}), Figure({\n    'data': [{'alignmentgroup': 'True',\n              'hovertemplate': 'y=%{y}<extra></extra>',\n              'legendgroup': '',\n              'marker': {'color': '#636efa'},\n              'name': '',\n              'notched': False,\n              'offsetgroup': '',\n              'orientation': 'v',\n              'showlegend': False,\n              'type': 'box',\n              'x0': ' ',\n              'xaxis': 'x',\n              'y': array([1.   , 0.943, 0.8  , ..., 0.958, 0.967, 0.921]),\n              'y0': ' ',\n              'yaxis': 'y'}],\n    'layout': {'boxmode': 'group',\n               'legend': {'tracegroupgap': 0},\n               'margin': {'t': 60},\n               'template': '...',\n               'xaxis': {'anchor': 'y', 'domain': [0.0, 1.0]},\n               'yaxis': {'anchor': 'x', 'domain': [0.0, 1.0], 'title': {'text': 'y'}}}\n}), Figure({\n    'data': [{'alignmentgroup': 'True',\n              'hovertemplate': 'y=%{y}<extra></extra>',\n              'legendgroup': '',\n              'marker': {'color': '#636efa'},\n              'name': '',\n              'notched': False,\n              'offsetgroup': '',\n              'orientation': 'v',\n              'showlegend': False,\n              'type': 'box',\n              'x0': ' ',\n              'xaxis': 'x',\n              'y': array([1.   , 0.943, 0.8  , ..., 0.875, 1.   , 1.   ]),\n              'y0': ' ',\n              'yaxis': 'y'}],\n    'layout': {'boxmode': 'group',\n               'legend': {'tracegroupgap': 0},\n               'margin': {'t': 60},\n               'template': '...',\n               'xaxis': {'anchor': 'y', 'domain': [0.0, 1.0]},\n               'yaxis': {'anchor': 'x', 'domain': [0.0, 1.0], 'title': {'text': 'y'}}}\n}), Figure({\n    'data': [{'alignmentgroup': 'True',\n              'hovertemplate': 'y=%{y}<extra></extra>',\n              'legendgroup': '',\n              'marker': {'color': '#636efa'},\n              'name': '',\n              'notched': False,\n              'offsetgroup': '',\n              'orientation': 'v',\n              'showlegend': False,\n              'type': 'box',\n              'x0': ' ',\n              'xaxis': 'x',\n              'y': array([0.703, 0.64 , 0.732, 0.636, 0.833, 0.9  , 0.967, 0.854, 0.964, 0.964,\n                          0.846, 0.894, 0.963, 0.958, 0.938, 0.909, 0.978, 0.955, 0.409, 0.409,\n                          0.773, 0.875, 0.875, 0.857, 0.8  , 0.466, 0.966, 0.682, 0.897, 0.857,\n                          0.909, 0.625, 0.667, 0.837, 0.907, 0.353, 0.222, 0.5  , 0.667, 0.75 ,\n                          1.   , 0.941, 0.972, 0.81 , 0.111, 0.8  , 0.889, 0.667, 0.6  , 0.7  ,\n                          0.868, 0.946, 1.   , 1.   , 0.781, 1.   , 0.462, 0.781, 0.929, 0.929,\n                          0.714, 0.826, 1.   , 0.889, 0.857, 0.5  , 0.5  , 0.765, 0.667, 0.558,\n                          0.922, 1.   , 1.   , 0.333, 0.95 , 0.5  , 1.   , 0.938, 0.968, 0.769,\n                          0.941, 0.875, 0.931, 0.909, 0.842, 0.146, 0.667, 0.692, 1.   , 0.764,\n                          0.632, 0.873, 0.556, 0.811, 0.811, 0.913, 0.706, 1.   , 0.807, 0.833,\n                          0.833, 0.833, 0.632, 1.   , 0.75 , 0.929, 0.375, 0.375, 0.9  , 0.6  ,\n                          0.68 , 0.68 , 0.667, 0.889, 0.737, 0.917, 0.667, 0.867, 1.   , 1.   ,\n                          0.706, 0.818, 1.   , 0.628, 0.8  , 0.3  , 1.   , 0.364, 1.   , 0.976,\n                          1.   , 0.361, 1.   , 0.729, 0.862, 1.   , 0.846]),\n              'y0': ' ',\n              'yaxis': 'y'}],\n    'layout': {'boxmode': 'group',\n               'legend': {'tracegroupgap': 0},\n               'margin': {'t': 60},\n               'template': '...',\n               'xaxis': {'anchor': 'y', 'domain': [0.0, 1.0]},\n               'yaxis': {'anchor': 'x', 'domain': [0.0, 1.0], 'title': {'text': 'y'}}}\n}), Figure({\n    'data': [{'alignmentgroup': 'True',\n              'hovertemplate': 'y=%{y}<extra></extra>',\n              'legendgroup': '',\n              'marker': {'color': '#636efa'},\n              'name': '',\n              'notched': False,\n              'offsetgroup': '',\n              'orientation': 'v',\n              'showlegend': False,\n              'type': 'box',\n              'x0': ' ',\n              'xaxis': 'x',\n              'y': array([0.96 , 0.806, 0.97 , 0.915, 0.915, 0.958, 0.897, 0.938, 0.909, 0.935,\n                          0.956, 0.918, 0.849, 0.88 , 0.878, 0.909, 0.867, 1.   , 0.909, 0.933,\n                          0.982, 1.   , 0.857, 0.747, 0.765, 0.923, 0.735, 0.952, 0.929, 0.969,\n                          0.83 , 1.   , 0.925, 0.737, 0.912, 0.895, 0.815, 0.815, 1.   , 1.   ,\n                          0.957, 0.9  , 0.853, 0.935, 0.932, 0.85 , 0.805, 0.754, 0.754, 0.833,\n                          0.95 , 0.952, 0.907, 0.962, 0.762, 0.837, 1.   , 0.844, 0.867, 0.846,\n                          0.818, 1.   , 0.905, 0.896, 0.915, 0.95 , 0.617, 0.622, 0.824, 0.976,\n                          0.966, 1.   , 0.896, 0.889, 0.954, 0.8  , 0.833, 0.568, 0.581, 0.941,\n                          0.92 , 0.857, 0.902, 0.921, 0.955, 0.785, 0.96 , 0.943, 0.848, 0.867]),\n              'y0': ' ',\n              'yaxis': 'y'}],\n    'layout': {'boxmode': 'group',\n               'legend': {'tracegroupgap': 0},\n               'margin': {'t': 60},\n               'template': '...',\n               'xaxis': {'anchor': 'y', 'domain': [0.0, 1.0]},\n               'yaxis': {'anchor': 'x', 'domain': [0.0, 1.0], 'title': {'text': 'y'}}}\n}), Figure({\n    'data': [{'alignmentgroup': 'True',\n              'hovertemplate': 'y=%{y}<extra></extra>',\n              'legendgroup': '',\n              'marker': {'color': '#636efa'},\n              'name': '',\n              'notched': False,\n              'offsetgroup': '',\n              'orientation': 'v',\n              'showlegend': False,\n              'type': 'box',\n              'x0': ' ',\n              'xaxis': 'x',\n              'y': array([0.703, 0.64 , 0.732, ..., 0.919, 0.935, 0.976]),\n              'y0': ' ',\n              'yaxis': 'y'}],\n    'layout': {'boxmode': 'group',\n               'legend': {'tracegroupgap': 0},\n               'margin': {'t': 60},\n               'template': '...',\n               'xaxis': {'anchor': 'y', 'domain': [0.0, 1.0]},\n               'yaxis': {'anchor': 'x', 'domain': [0.0, 1.0], 'title': {'text': 'y'}}}\n}), Figure({\n    'data': [{'alignmentgroup': 'True',\n              'hovertemplate': 'y=%{y}<extra></extra>',\n              'legendgroup': '',\n              'marker': {'color': '#636efa'},\n              'name': '',\n              'notched': False,\n              'offsetgroup': '',\n              'orientation': 'v',\n              'showlegend': False,\n              'type': 'box',\n              'x0': ' ',\n              'xaxis': 'x',\n              'y': array([0.895, 0.878, 0.842, 0.75 , 0.5  , 1.   , 1.   , 0.968, 1.   , 0.917,\n                          0.923, 1.   , 0.895, 0.682, 0.8  , 0.5  , 0.833, 0.593, 0.759, 1.   ,\n                          0.923, 0.86 , 0.941, 0.865, 0.804, 0.833, 1.   , 0.429, 0.889, 0.889,\n                          0.944, 0.679, 0.958, 0.722, 0.778, 0.571, 0.625, 0.788, 0.927, 0.643,\n                          0.824, 0.864, 0.908, 0.56 , 0.81 , 0.75 , 0.875, 0.912, 1.   , 0.909,\n                          1.   , 1.   , 0.261, 0.8  , 0.778, 0.909, 0.934, 0.679, 0.943, 0.923,\n                          0.84 , 0.986]),\n              'y0': ' ',\n              'yaxis': 'y'}],\n    'layout': {'boxmode': 'group',\n               'legend': {'tracegroupgap': 0},\n               'margin': {'t': 60},\n               'template': '...',\n               'xaxis': {'anchor': 'y', 'domain': [0.0, 1.0]},\n               'yaxis': {'anchor': 'x', 'domain': [0.0, 1.0], 'title': {'text': 'y'}}}\n})]\n\n    The 'data' property is a tuple of trace instances\n    that may be specified as:\n      - A list or tuple of trace instances\n        (e.g. [Scatter(...), Bar(...)])\n      - A single trace instance\n        (e.g. Scatter(...), Bar(...), etc.)\n      - A list or tuple of dicts of string/value properties where:\n        - The 'type' property specifies the trace type\n            One of: ['area', 'bar', 'barpolar', 'box',\n                     'candlestick', 'carpet', 'choropleth',\n                     'choroplethmapbox', 'cone', 'contour',\n                     'contourcarpet', 'densitymapbox', 'funnel',\n                     'funnelarea', 'heatmap', 'heatmapgl',\n                     'histogram', 'histogram2d',\n                     'histogram2dcontour', 'image', 'indicator',\n                     'isosurface', 'mesh3d', 'ohlc', 'parcats',\n                     'parcoords', 'pie', 'pointcloud', 'sankey',\n                     'scatter', 'scatter3d', 'scattercarpet',\n                     'scattergeo', 'scattergl', 'scattermapbox',\n                     'scatterpolar', 'scatterpolargl',\n                     'scatterternary', 'splom', 'streamtube',\n                     'sunburst', 'surface', 'table', 'treemap',\n                     'violin', 'volume', 'waterfall']\n\n        - All remaining properties are passed to the constructor of\n          the specified trace type\n\n        (e.g. [{'type': 'scatter', ...}, {'type': 'bar, ...}])"
     ]
    }
   ],
   "source": [
    "traces = list()\n",
    "for course in all_course_names.unique():\n",
    "    curr = eng_df[eng_df['course'].str.contains(course)]\n",
    "    traces.append(px.box(y=curr['rcmnd_class']))\n",
    "\n",
    "fig = go.Figure(data=traces)"
   ],
   "metadata": {
    "collapsed": false,
    "pycharm": {
     "name": "#%%\n"
    }
   }
  },
  {
   "cell_type": "code",
   "execution_count": 23,
   "outputs": [
    {
     "data": {
      "text/plain": "[Figure({\n     'data': [{'alignmentgroup': 'True',\n               'hovertemplate': 'y=%{y}<extra></extra>',\n               'legendgroup': '',\n               'marker': {'color': '#636efa'},\n               'name': '',\n               'notched': False,\n               'offsetgroup': '',\n               'orientation': 'v',\n               'showlegend': False,\n               'type': 'box',\n               'x0': ' ',\n               'xaxis': 'x',\n               'y': array([1.   , 0.946, 0.457, 0.606, 0.789, 0.789, 1.   , 0.8  , 1.   , 0.921,\n                           0.857, 0.9  , 0.8  , 0.917, 0.946, 0.905, 0.982, 0.358, 0.845, 0.484,\n                           0.929, 0.8  , 0.929, 0.714, 0.852, 0.895, 1.   , 0.8  , 0.885, 0.897,\n                           0.95 , 0.816, 0.525, 0.868, 0.846, 0.84 , 1.   , 0.943, 0.889, 1.   ,\n                           0.886, 0.969, 1.   , 0.889, 0.722, 0.853, 0.885, 0.833, 0.7  , 0.706,\n                           0.97 , 0.948, 0.92 , 0.893, 0.64 , 0.833, 0.968, 0.983, 0.96 , 0.955,\n                           0.868, 0.912, 1.   , 0.933, 0.932, 0.85 , 0.929, 0.913, 0.957, 0.957,\n                           0.972, 0.947, 0.938, 1.   ]),\n               'y0': ' ',\n               'yaxis': 'y'}],\n     'layout': {'boxmode': 'group',\n                'legend': {'tracegroupgap': 0},\n                'margin': {'t': 60},\n                'template': '...',\n                'xaxis': {'anchor': 'y', 'domain': [0.0, 1.0]},\n                'yaxis': {'anchor': 'x', 'domain': [0.0, 1.0], 'title': {'text': 'y'}}}\n }),\n Figure({\n     'data': [{'alignmentgroup': 'True',\n               'hovertemplate': 'y=%{y}<extra></extra>',\n               'legendgroup': '',\n               'marker': {'color': '#636efa'},\n               'name': '',\n               'notched': False,\n               'offsetgroup': '',\n               'orientation': 'v',\n               'showlegend': False,\n               'type': 'box',\n               'x0': ' ',\n               'xaxis': 'x',\n               'y': array([0.848, 0.977, 1.   , ..., 0.908, 0.875, 0.739]),\n               'y0': ' ',\n               'yaxis': 'y'}],\n     'layout': {'boxmode': 'group',\n                'legend': {'tracegroupgap': 0},\n                'margin': {'t': 60},\n                'template': '...',\n                'xaxis': {'anchor': 'y', 'domain': [0.0, 1.0]},\n                'yaxis': {'anchor': 'x', 'domain': [0.0, 1.0], 'title': {'text': 'y'}}}\n }),\n Figure({\n     'data': [{'alignmentgroup': 'True',\n               'hovertemplate': 'y=%{y}<extra></extra>',\n               'legendgroup': '',\n               'marker': {'color': '#636efa'},\n               'name': '',\n               'notched': False,\n               'offsetgroup': '',\n               'orientation': 'v',\n               'showlegend': False,\n               'type': 'box',\n               'x0': ' ',\n               'xaxis': 'x',\n               'y': array([1.   , 0.943, 0.8  , ..., 0.958, 0.967, 0.921]),\n               'y0': ' ',\n               'yaxis': 'y'}],\n     'layout': {'boxmode': 'group',\n                'legend': {'tracegroupgap': 0},\n                'margin': {'t': 60},\n                'template': '...',\n                'xaxis': {'anchor': 'y', 'domain': [0.0, 1.0]},\n                'yaxis': {'anchor': 'x', 'domain': [0.0, 1.0], 'title': {'text': 'y'}}}\n }),\n Figure({\n     'data': [{'alignmentgroup': 'True',\n               'hovertemplate': 'y=%{y}<extra></extra>',\n               'legendgroup': '',\n               'marker': {'color': '#636efa'},\n               'name': '',\n               'notched': False,\n               'offsetgroup': '',\n               'orientation': 'v',\n               'showlegend': False,\n               'type': 'box',\n               'x0': ' ',\n               'xaxis': 'x',\n               'y': array([1.   , 0.943, 0.8  , ..., 0.875, 1.   , 1.   ]),\n               'y0': ' ',\n               'yaxis': 'y'}],\n     'layout': {'boxmode': 'group',\n                'legend': {'tracegroupgap': 0},\n                'margin': {'t': 60},\n                'template': '...',\n                'xaxis': {'anchor': 'y', 'domain': [0.0, 1.0]},\n                'yaxis': {'anchor': 'x', 'domain': [0.0, 1.0], 'title': {'text': 'y'}}}\n }),\n Figure({\n     'data': [{'alignmentgroup': 'True',\n               'hovertemplate': 'y=%{y}<extra></extra>',\n               'legendgroup': '',\n               'marker': {'color': '#636efa'},\n               'name': '',\n               'notched': False,\n               'offsetgroup': '',\n               'orientation': 'v',\n               'showlegend': False,\n               'type': 'box',\n               'x0': ' ',\n               'xaxis': 'x',\n               'y': array([0.703, 0.64 , 0.732, 0.636, 0.833, 0.9  , 0.967, 0.854, 0.964, 0.964,\n                           0.846, 0.894, 0.963, 0.958, 0.938, 0.909, 0.978, 0.955, 0.409, 0.409,\n                           0.773, 0.875, 0.875, 0.857, 0.8  , 0.466, 0.966, 0.682, 0.897, 0.857,\n                           0.909, 0.625, 0.667, 0.837, 0.907, 0.353, 0.222, 0.5  , 0.667, 0.75 ,\n                           1.   , 0.941, 0.972, 0.81 , 0.111, 0.8  , 0.889, 0.667, 0.6  , 0.7  ,\n                           0.868, 0.946, 1.   , 1.   , 0.781, 1.   , 0.462, 0.781, 0.929, 0.929,\n                           0.714, 0.826, 1.   , 0.889, 0.857, 0.5  , 0.5  , 0.765, 0.667, 0.558,\n                           0.922, 1.   , 1.   , 0.333, 0.95 , 0.5  , 1.   , 0.938, 0.968, 0.769,\n                           0.941, 0.875, 0.931, 0.909, 0.842, 0.146, 0.667, 0.692, 1.   , 0.764,\n                           0.632, 0.873, 0.556, 0.811, 0.811, 0.913, 0.706, 1.   , 0.807, 0.833,\n                           0.833, 0.833, 0.632, 1.   , 0.75 , 0.929, 0.375, 0.375, 0.9  , 0.6  ,\n                           0.68 , 0.68 , 0.667, 0.889, 0.737, 0.917, 0.667, 0.867, 1.   , 1.   ,\n                           0.706, 0.818, 1.   , 0.628, 0.8  , 0.3  , 1.   , 0.364, 1.   , 0.976,\n                           1.   , 0.361, 1.   , 0.729, 0.862, 1.   , 0.846]),\n               'y0': ' ',\n               'yaxis': 'y'}],\n     'layout': {'boxmode': 'group',\n                'legend': {'tracegroupgap': 0},\n                'margin': {'t': 60},\n                'template': '...',\n                'xaxis': {'anchor': 'y', 'domain': [0.0, 1.0]},\n                'yaxis': {'anchor': 'x', 'domain': [0.0, 1.0], 'title': {'text': 'y'}}}\n }),\n Figure({\n     'data': [{'alignmentgroup': 'True',\n               'hovertemplate': 'y=%{y}<extra></extra>',\n               'legendgroup': '',\n               'marker': {'color': '#636efa'},\n               'name': '',\n               'notched': False,\n               'offsetgroup': '',\n               'orientation': 'v',\n               'showlegend': False,\n               'type': 'box',\n               'x0': ' ',\n               'xaxis': 'x',\n               'y': array([0.96 , 0.806, 0.97 , 0.915, 0.915, 0.958, 0.897, 0.938, 0.909, 0.935,\n                           0.956, 0.918, 0.849, 0.88 , 0.878, 0.909, 0.867, 1.   , 0.909, 0.933,\n                           0.982, 1.   , 0.857, 0.747, 0.765, 0.923, 0.735, 0.952, 0.929, 0.969,\n                           0.83 , 1.   , 0.925, 0.737, 0.912, 0.895, 0.815, 0.815, 1.   , 1.   ,\n                           0.957, 0.9  , 0.853, 0.935, 0.932, 0.85 , 0.805, 0.754, 0.754, 0.833,\n                           0.95 , 0.952, 0.907, 0.962, 0.762, 0.837, 1.   , 0.844, 0.867, 0.846,\n                           0.818, 1.   , 0.905, 0.896, 0.915, 0.95 , 0.617, 0.622, 0.824, 0.976,\n                           0.966, 1.   , 0.896, 0.889, 0.954, 0.8  , 0.833, 0.568, 0.581, 0.941,\n                           0.92 , 0.857, 0.902, 0.921, 0.955, 0.785, 0.96 , 0.943, 0.848, 0.867]),\n               'y0': ' ',\n               'yaxis': 'y'}],\n     'layout': {'boxmode': 'group',\n                'legend': {'tracegroupgap': 0},\n                'margin': {'t': 60},\n                'template': '...',\n                'xaxis': {'anchor': 'y', 'domain': [0.0, 1.0]},\n                'yaxis': {'anchor': 'x', 'domain': [0.0, 1.0], 'title': {'text': 'y'}}}\n }),\n Figure({\n     'data': [{'alignmentgroup': 'True',\n               'hovertemplate': 'y=%{y}<extra></extra>',\n               'legendgroup': '',\n               'marker': {'color': '#636efa'},\n               'name': '',\n               'notched': False,\n               'offsetgroup': '',\n               'orientation': 'v',\n               'showlegend': False,\n               'type': 'box',\n               'x0': ' ',\n               'xaxis': 'x',\n               'y': array([0.703, 0.64 , 0.732, ..., 0.919, 0.935, 0.976]),\n               'y0': ' ',\n               'yaxis': 'y'}],\n     'layout': {'boxmode': 'group',\n                'legend': {'tracegroupgap': 0},\n                'margin': {'t': 60},\n                'template': '...',\n                'xaxis': {'anchor': 'y', 'domain': [0.0, 1.0]},\n                'yaxis': {'anchor': 'x', 'domain': [0.0, 1.0], 'title': {'text': 'y'}}}\n }),\n Figure({\n     'data': [{'alignmentgroup': 'True',\n               'hovertemplate': 'y=%{y}<extra></extra>',\n               'legendgroup': '',\n               'marker': {'color': '#636efa'},\n               'name': '',\n               'notched': False,\n               'offsetgroup': '',\n               'orientation': 'v',\n               'showlegend': False,\n               'type': 'box',\n               'x0': ' ',\n               'xaxis': 'x',\n               'y': array([0.895, 0.878, 0.842, 0.75 , 0.5  , 1.   , 1.   , 0.968, 1.   , 0.917,\n                           0.923, 1.   , 0.895, 0.682, 0.8  , 0.5  , 0.833, 0.593, 0.759, 1.   ,\n                           0.923, 0.86 , 0.941, 0.865, 0.804, 0.833, 1.   , 0.429, 0.889, 0.889,\n                           0.944, 0.679, 0.958, 0.722, 0.778, 0.571, 0.625, 0.788, 0.927, 0.643,\n                           0.824, 0.864, 0.908, 0.56 , 0.81 , 0.75 , 0.875, 0.912, 1.   , 0.909,\n                           1.   , 1.   , 0.261, 0.8  , 0.778, 0.909, 0.934, 0.679, 0.943, 0.923,\n                           0.84 , 0.986]),\n               'y0': ' ',\n               'yaxis': 'y'}],\n     'layout': {'boxmode': 'group',\n                'legend': {'tracegroupgap': 0},\n                'margin': {'t': 60},\n                'template': '...',\n                'xaxis': {'anchor': 'y', 'domain': [0.0, 1.0]},\n                'yaxis': {'anchor': 'x', 'domain': [0.0, 1.0], 'title': {'text': 'y'}}}\n })]"
     },
     "execution_count": 23,
     "metadata": {},
     "output_type": "execute_result"
    }
   ],
   "source": [],
   "metadata": {
    "collapsed": false,
    "pycharm": {
     "name": "#%%\n"
    }
   }
  }
 ],
 "metadata": {
  "kernelspec": {
   "name": "pycharm-96dbe45e",
   "language": "python",
   "display_name": "PyCharm (dsc80-sp21)"
  },
  "language_info": {
   "codemirror_mode": {
    "name": "ipython",
    "version": 2
   },
   "file_extension": ".py",
   "mimetype": "text/x-python",
   "name": "python",
   "nbconvert_exporter": "python",
   "pygments_lexer": "ipython2",
   "version": "2.7.6"
  }
 },
 "nbformat": 4,
 "nbformat_minor": 0
}